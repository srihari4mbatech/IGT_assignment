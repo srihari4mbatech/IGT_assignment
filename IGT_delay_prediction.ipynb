{
 "cells": [
  {
   "cell_type": "code",
   "execution_count": 1,
   "metadata": {
    "collapsed": false,
    "deletable": true,
    "editable": true
   },
   "outputs": [
    {
     "name": "stderr",
     "output_type": "stream",
     "text": [
      "/usr/local/envs/py3env/lib/python3.5/site-packages/h5py/__init__.py:36: FutureWarning: Conversion of the second argument of issubdtype from `float` to `np.floating` is deprecated. In future, it will be treated as `np.float64 == np.dtype(float).type`.\n",
      "  from ._conv import register_converters as _register_converters\n"
     ]
    }
   ],
   "source": [
    "import pandas as pd\n",
    "import numpy as np\n",
    "import matplotlib.pyplot as plt\n",
    "%matplotlib inline\n",
    "import tensorflow as tf\n",
    "import seaborn as sns\n",
    "from sklearn.model_selection import train_test_split\n",
    "import os"
   ]
  },
  {
   "cell_type": "markdown",
   "metadata": {
    "deletable": true,
    "editable": true
   },
   "source": [
    "## Create a model to predict the delays"
   ]
  },
  {
   "cell_type": "markdown",
   "metadata": {
    "deletable": true,
    "editable": true
   },
   "source": [
    "#### Through this workbook,I am goin to answer below questions:\n",
    "* Create a model to predict flight delays?\n",
    "* How well does weather predict plane delays?"
   ]
  },
  {
   "cell_type": "code",
   "execution_count": 2,
   "metadata": {
    "collapsed": true,
    "deletable": true,
    "editable": true
   },
   "outputs": [],
   "source": [
    "df_2008=pd.read_csv('2008.csv')\n",
    "df_2007=pd.read_csv('2007.csv')\n",
    "airport_df=pd.read_csv('airports.csv')\n",
    "carrier_df=pd.read_csv('carriers.csv')\n",
    "planes_df=pd.read_csv('plane-data.csv')\n",
    "main_df=pd.concat([df_2008],ignore_index=True)"
   ]
  },
  {
   "cell_type": "code",
   "execution_count": 3,
   "metadata": {
    "collapsed": false,
    "deletable": true,
    "editable": true
   },
   "outputs": [],
   "source": [
    "main_df['Date']=pd.to_datetime(pd.DataFrame({'year':main_df['Year'],'month':main_df['Month'],'day':main_df['DayofMonth']}))"
   ]
  },
  {
   "cell_type": "markdown",
   "metadata": {
    "deletable": true,
    "editable": true
   },
   "source": [
    "#### Problem statement - Is there any delay in the flight or not? If there is a delay do that is Dep Delay or Arr Delay or both or None. IF so how much of departure delay and how much of arrival delay\n",
    "There are two regression problems in this questions.\n",
    "#### Problem Statement1 - How much is Departure Delay for this particural plane\n",
    "#### Problem Statement2 - How much is Arrival Delay for this particural plane\n",
    "Key parameters can be considered are:\n",
    "Target parameter: DepDelay or Arr Delay (Prepare a column Total Delay)\n",
    "#### Problem1 model below"
   ]
  },
  {
   "cell_type": "code",
   "execution_count": 4,
   "metadata": {
    "collapsed": false,
    "deletable": true,
    "editable": true
   },
   "outputs": [],
   "source": [
    "main_df.columns\n",
    "key_columns=['CRSDepTime','CRSArrTime','UniqueCarrier','AirTime','Diverted','CarrierDelay','WeatherDelay','NASDelay','SecurityDelay',\n",
    "            'LateAircraftDelay','Month','DayOfWeek','DepDelay']\n",
    "key2_columns=['UniqueCarrier','Diverted','CarrierDelay','WeatherDelay','NASDelay','SecurityDelay',\n",
    "            'LateAircraftDelay','Month','DayOfWeek','DepDelay']"
   ]
  },
  {
   "cell_type": "code",
   "execution_count": 5,
   "metadata": {
    "collapsed": false,
    "deletable": true,
    "editable": true
   },
   "outputs": [],
   "source": [
    "main_df_req=main_df[key2_columns].copy()"
   ]
  },
  {
   "cell_type": "code",
   "execution_count": 6,
   "metadata": {
    "collapsed": false,
    "deletable": true,
    "editable": true
   },
   "outputs": [
    {
     "name": "stderr",
     "output_type": "stream",
     "text": [
      "/usr/local/envs/py3env/lib/python3.5/site-packages/matplotlib/font_manager.py:1320: UserWarning: findfont: Font family ['sans-serif'] not found. Falling back to DejaVu Sans\n",
      "  (prop.get_family(), self.defaultFamily[fontext]))\n"
     ]
    },
    {
     "data": {
      "text/plain": [
       "<matplotlib.axes._subplots.AxesSubplot at 0x7f899196ae80>"
      ]
     },
     "execution_count": 6,
     "metadata": {},
     "output_type": "execute_result"
    },
    {
     "data": {
      "image/png": "[encoded data removed]",
      "text/plain": [
       "<matplotlib.figure.Figure at 0x7f89b0a5f668>"
      ]
     },
     "metadata": {},
     "output_type": "display_data"
    }
   ],
   "source": [
    "sns.heatmap(main_df_req.corr())"
   ]
  },
  {
   "cell_type": "code",
   "execution_count": 7,
   "metadata": {
    "collapsed": false,
    "deletable": true,
    "editable": true
   },
   "outputs": [
    {
     "data": {
      "text/plain": [
       "<matplotlib.axes._subplots.AxesSubplot at 0x7f888337dfd0>"
      ]
     },
     "execution_count": 7,
     "metadata": {},
     "output_type": "execute_result"
    },
    {
     "name": "stderr",
     "output_type": "stream",
     "text": [
      "/usr/local/envs/py3env/lib/python3.5/site-packages/matplotlib/font_manager.py:1320: UserWarning: findfont: Font family ['sans-serif'] not found. Falling back to DejaVu Sans\n",
      "  (prop.get_family(), self.defaultFamily[fontext]))\n"
     ]
    },
    {
     "data": {
      "image/png": "[encoded data removed]",
      "text/plain": [
       "<matplotlib.figure.Figure at 0x7f88a5081f28>"
      ]
     },
     "metadata": {},
     "output_type": "display_data"
    }
   ],
   "source": [
    "main_df_req.boxplot(column='DepDelay',by='Diverted')"
   ]
  },
  {
   "cell_type": "code",
   "execution_count": 8,
   "metadata": {
    "collapsed": false,
    "deletable": true,
    "editable": true
   },
   "outputs": [
    {
     "name": "stderr",
     "output_type": "stream",
     "text": [
      "/usr/local/envs/py3env/lib/python3.5/site-packages/seaborn/categorical.py:450: FutureWarning: remove_na is deprecated and is a private function. Do not use.\n",
      "  box_data = remove_na(group_data)\n"
     ]
    },
    {
     "data": {
      "text/plain": [
       "<matplotlib.axes._subplots.AxesSubplot at 0x7f89910e5470>"
      ]
     },
     "execution_count": 8,
     "metadata": {},
     "output_type": "execute_result"
    },
    {
     "name": "stderr",
     "output_type": "stream",
     "text": [
      "/usr/local/envs/py3env/lib/python3.5/site-packages/matplotlib/font_manager.py:1320: UserWarning: findfont: Font family ['sans-serif'] not found. Falling back to DejaVu Sans\n",
      "  (prop.get_family(), self.defaultFamily[fontext]))\n"
     ]
    },
    {
     "data": {
      "image/png": "[encoded data removed]",
      "text/plain": [
       "<matplotlib.figure.Figure at 0x7f89c0667e10>"
      ]
     },
     "metadata": {},
     "output_type": "display_data"
    }
   ],
   "source": [
    "sns.boxplot(x='Diverted',y='DepDelay',data=main_df_req)"
   ]
  },
  {
   "cell_type": "code",
   "execution_count": 9,
   "metadata": {
    "collapsed": false,
    "deletable": true,
    "editable": true
   },
   "outputs": [
    {
     "data": {
      "text/plain": [
       "count    6.873482e+06\n",
       "mean     9.972570e+00\n",
       "std      3.531127e+01\n",
       "min     -5.340000e+02\n",
       "1%      -1.200000e+01\n",
       "5%      -9.000000e+00\n",
       "50%     -1.000000e+00\n",
       "95%      7.000000e+01\n",
       "99%      1.640000e+02\n",
       "max      2.467000e+03\n",
       "Name: DepDelay, dtype: float64"
      ]
     },
     "execution_count": 9,
     "metadata": {},
     "output_type": "execute_result"
    }
   ],
   "source": [
    "main_df_req['DepDelay'].describe(percentiles=[0.01,0.05,0.95,0.99])"
   ]
  },
  {
   "cell_type": "code",
   "execution_count": 10,
   "metadata": {
    "collapsed": false,
    "deletable": true,
    "editable": true
   },
   "outputs": [
    {
     "name": "stdout",
     "output_type": "stream",
     "text": [
      "Index(['UniqueCarrier', 'Diverted', 'CarrierDelay', 'WeatherDelay', 'NASDelay',\n",
      "       'SecurityDelay', 'LateAircraftDelay', 'Month', 'DayOfWeek', 'DepDelay'],\n",
      "      dtype='object')\n",
      "['WN', 'XE', 'YV', 'OH', 'OO', 'UA', 'US', 'DL', 'EV', 'F9', 'FL', 'HA', 'MQ', 'NW', '9E', 'AA', 'AQ', 'AS', 'B6', 'CO']\n"
     ]
    }
   ],
   "source": [
    "print(main_df_req.columns)\n",
    "lst=list(main_df_req['UniqueCarrier'].unique())\n",
    "print(lst)\n",
    "main_df_req1=main_df_req[main_df_req['DepDelay'].isnull()==False].fillna(0)"
   ]
  },
  {
   "cell_type": "code",
   "execution_count": 11,
   "metadata": {
    "collapsed": false,
    "deletable": true,
    "editable": true
   },
   "outputs": [
    {
     "data": {
      "text/plain": [
       "array([4, 5, 6, 7, 1, 2, 3])"
      ]
     },
     "execution_count": 11,
     "metadata": {},
     "output_type": "execute_result"
    }
   ],
   "source": [
    "main_df['DayOfWeek'].unique()"
   ]
  },
  {
   "cell_type": "code",
   "execution_count": 12,
   "metadata": {
    "collapsed": false,
    "deletable": true,
    "editable": true
   },
   "outputs": [],
   "source": [
    "Unq_carr=tf.feature_column.categorical_column_with_hash_bucket('UniqueCarrier',hash_bucket_size=20)\n",
    "diver=tf.feature_column.categorical_column_with_vocabulary_list('Diverted',[1,0])\n",
    "Car_del=tf.feature_column.numeric_column('CarrierDelay')\n",
    "wt_del=tf.feature_column.numeric_column('WeatherDelay')\n",
    "Nas_del=tf.feature_column.numeric_column('NASDelay')\n",
    "Sec_del=tf.feature_column.numeric_column('SecurityDelay')\n",
    "Late_del=tf.feature_column.numeric_column('LateAircraftDelay')\n",
    "Month=tf.feature_column.categorical_column_with_vocabulary_list('Month',[1,2,3,4,5,6,7,8,9,10,11,12])\n",
    "DayOfWeek=tf.feature_column.categorical_column_with_vocabulary_list('DayOfWeek',[1,2,3,4,5,6,7])\n",
    "DepDelay=tf.feature_column.numeric_column('DepDelay')\n",
    "Unq_car=tf.feature_column.indicator_column(Unq_carr)\n",
    "diverted=tf.feature_column.indicator_column(diver)\n",
    "day_week=tf.feature_column.indicator_column(DayOfWeek)\n",
    "day_mnth=tf.feature_column.indicator_column(Month)"
   ]
  },
  {
   "cell_type": "code",
   "execution_count": 13,
   "metadata": {
    "collapsed": false,
    "deletable": true,
    "editable": true
   },
   "outputs": [],
   "source": [
    "feat_cols=[Unq_car,diverted,Car_del,wt_del,Nas_del,Sec_del,Late_del,day_mnth,day_week]\n",
    "x_train,x_test,y_train,y_test=train_test_split(main_df_req1.iloc[:,:-1],main_df_req1.iloc[:,-1],random_state=100,train_size=0.8)"
   ]
  },
  {
   "cell_type": "markdown",
   "metadata": {
    "deletable": true,
    "editable": true
   },
   "source": [
    "Create an input function"
   ]
  },
  {
   "cell_type": "code",
   "execution_count": 14,
   "metadata": {
    "collapsed": false,
    "deletable": true,
    "editable": true
   },
   "outputs": [],
   "source": [
    "input_func=tf.estimator.inputs.pandas_input_fn(x=x_train,y=y_train,batch_size=100,num_epochs=11,shuffle=False)\n",
    "test_func=tf.estimator.inputs.pandas_input_fn(x=x_test,y=y_test,batch_size=100,num_epochs=11,shuffle=False)"
   ]
  },
  {
   "cell_type": "markdown",
   "metadata": {
    "deletable": true,
    "editable": true
   },
   "source": [
    "Create DNNRegressor model"
   ]
  },
  {
   "cell_type": "code",
   "execution_count": 15,
   "metadata": {
    "collapsed": false,
    "deletable": true,
    "editable": true
   },
   "outputs": [
    {
     "name": "stdout",
     "output_type": "stream",
     "text": [
      "INFO:tensorflow:Using default config.\n",
      "INFO:tensorflow:Using config: {'_cluster_spec': <tensorflow.python.training.server_lib.ClusterSpec object at 0x7f8991086198>, '_num_ps_replicas': 0, '_service': None, '_model_dir': '/content/datalab/notebooks/model', '_session_config': None, '_save_checkpoints_secs': 600, '_keep_checkpoint_every_n_hours': 10000, '_save_checkpoints_steps': None, '_save_summary_steps': 100, '_task_type': 'worker', '_task_id': 0, '_keep_checkpoint_max': 5, '_tf_random_seed': None, '_log_step_count_steps': 100, '_is_chief': True, '_master': '', '_num_worker_replicas': 1}\n"
     ]
    }
   ],
   "source": [
    "model=tf.estimator.DNNRegressor(feature_columns=feat_cols,hidden_units=[10,30,30,30,10],activation_fn=tf.nn.relu,\n",
    "                                optimizer=tf.train.ProximalAdagradOptimizer(learning_rate=0.05,l1_regularization_strength=0.001),\n",
    "                               model_dir=os.getcwd()+'/model')"
   ]
  },
  {
   "cell_type": "code",
   "execution_count": 16,
   "metadata": {
    "collapsed": false,
    "deletable": true,
    "editable": true
   },
   "outputs": [
    {
     "name": "stdout",
     "output_type": "stream",
     "text": [
      "/content/datalab/notebooks\n"
     ]
    }
   ],
   "source": [
    "print(os.getcwd())"
   ]
  },
  {
   "cell_type": "code",
   "execution_count": 17,
   "metadata": {
    "collapsed": false,
    "deletable": true,
    "editable": true
   },
   "outputs": [
    {
     "name": "stdout",
     "output_type": "stream",
     "text": [
      "INFO:tensorflow:Create CheckpointSaverHook.\n",
      "INFO:tensorflow:Restoring parameters from /content/datalab/notebooks/model/model.ckpt-2500\n",
      "INFO:tensorflow:Saving checkpoints for 2501 into /content/datalab/notebooks/model/model.ckpt.\n",
      "INFO:tensorflow:loss = 7025.4, step = 2501\n",
      "INFO:tensorflow:global_step/sec: 256.25\n",
      "INFO:tensorflow:loss = 6939.789, step = 2601 (0.396 sec)\n",
      "INFO:tensorflow:global_step/sec: 268.443\n",
      "INFO:tensorflow:loss = 8099.621, step = 2701 (0.372 sec)\n",
      "INFO:tensorflow:global_step/sec: 278.93\n",
      "INFO:tensorflow:loss = 10227.656, step = 2801 (0.357 sec)\n",
      "INFO:tensorflow:global_step/sec: 285.048\n",
      "INFO:tensorflow:loss = 4889.798, step = 2901 (0.351 sec)\n",
      "INFO:tensorflow:global_step/sec: 282.107\n",
      "INFO:tensorflow:loss = 4174.12, step = 3001 (0.357 sec)\n",
      "INFO:tensorflow:global_step/sec: 281.713\n",
      "INFO:tensorflow:loss = 4351.1445, step = 3101 (0.355 sec)\n",
      "INFO:tensorflow:global_step/sec: 278.806\n",
      "INFO:tensorflow:loss = 5853.966, step = 3201 (0.360 sec)\n",
      "INFO:tensorflow:global_step/sec: 269.284\n",
      "INFO:tensorflow:loss = 7400.5293, step = 3301 (0.368 sec)\n",
      "INFO:tensorflow:global_step/sec: 272.987\n",
      "INFO:tensorflow:loss = 3610.585, step = 3401 (0.370 sec)\n",
      "INFO:tensorflow:global_step/sec: 276.434\n",
      "INFO:tensorflow:loss = 8712.276, step = 3501 (0.360 sec)\n",
      "INFO:tensorflow:global_step/sec: 264.363\n",
      "INFO:tensorflow:loss = 3898.693, step = 3601 (0.379 sec)\n",
      "INFO:tensorflow:global_step/sec: 273.371\n",
      "INFO:tensorflow:loss = 5583.538, step = 3701 (0.365 sec)\n",
      "INFO:tensorflow:global_step/sec: 267.503\n",
      "INFO:tensorflow:loss = 5544.448, step = 3801 (0.374 sec)\n",
      "INFO:tensorflow:global_step/sec: 274.97\n",
      "INFO:tensorflow:loss = 5344.3438, step = 3901 (0.362 sec)\n",
      "INFO:tensorflow:global_step/sec: 288.802\n",
      "INFO:tensorflow:loss = 4884.5894, step = 4001 (0.349 sec)\n",
      "INFO:tensorflow:global_step/sec: 285.557\n",
      "INFO:tensorflow:loss = 4627.0073, step = 4101 (0.347 sec)\n",
      "INFO:tensorflow:global_step/sec: 281.97\n",
      "INFO:tensorflow:loss = 9250.23, step = 4201 (0.356 sec)\n",
      "INFO:tensorflow:global_step/sec: 283.045\n",
      "INFO:tensorflow:loss = 4191.7393, step = 4301 (0.355 sec)\n",
      "INFO:tensorflow:global_step/sec: 295.205\n",
      "INFO:tensorflow:loss = 7118.3135, step = 4401 (0.335 sec)\n",
      "INFO:tensorflow:global_step/sec: 286.708\n",
      "INFO:tensorflow:loss = 3495.727, step = 4501 (0.347 sec)\n",
      "INFO:tensorflow:global_step/sec: 283.663\n",
      "INFO:tensorflow:loss = 29808.496, step = 4601 (0.357 sec)\n",
      "INFO:tensorflow:global_step/sec: 282.945\n",
      "INFO:tensorflow:loss = 6566.733, step = 4701 (0.354 sec)\n",
      "INFO:tensorflow:global_step/sec: 282.433\n",
      "INFO:tensorflow:loss = 19289.568, step = 4801 (0.352 sec)\n",
      "INFO:tensorflow:global_step/sec: 282.213\n",
      "INFO:tensorflow:loss = 4379.4717, step = 4901 (0.354 sec)\n",
      "INFO:tensorflow:Saving checkpoints for 5000 into /content/datalab/notebooks/model/model.ckpt.\n",
      "INFO:tensorflow:Loss for final step: 18319.191.\n"
     ]
    },
    {
     "data": {
      "text/plain": [
       "<tensorflow.python.estimator.canned.dnn.DNNRegressor at 0x7f8990ffa358>"
      ]
     },
     "execution_count": 17,
     "metadata": {},
     "output_type": "execute_result"
    }
   ],
   "source": [
    "model.train(input_fn=input_func,steps=2500)"
   ]
  },
  {
   "cell_type": "code",
   "execution_count": 241,
   "metadata": {
    "collapsed": false,
    "deletable": true,
    "editable": true
   },
   "outputs": [
    {
     "name": "stdout",
     "output_type": "stream",
     "text": [
      "INFO:tensorflow:Starting evaluation at 2018-05-04-16:20:15\n",
      "INFO:tensorflow:Restoring parameters from /content/datalab/notebooks/model/model.ckpt-2500\n",
      "INFO:tensorflow:Evaluation [10/100]\n",
      "INFO:tensorflow:Evaluation [20/100]\n",
      "INFO:tensorflow:Evaluation [30/100]\n",
      "INFO:tensorflow:Evaluation [40/100]\n",
      "INFO:tensorflow:Evaluation [50/100]\n",
      "INFO:tensorflow:Evaluation [60/100]\n",
      "INFO:tensorflow:Evaluation [70/100]\n",
      "INFO:tensorflow:Evaluation [80/100]\n",
      "INFO:tensorflow:Evaluation [90/100]\n",
      "INFO:tensorflow:Evaluation [100/100]\n",
      "INFO:tensorflow:Finished evaluation at 2018-05-04-16:20:15\n",
      "INFO:tensorflow:Saving dict for global step 2500: average_loss = 82.01227, global_step = 2500, loss = 8201.227\n",
      "{'global_step': 2500, 'average_loss': 82.01227, 'loss': 8201.227}\n"
     ]
    }
   ],
   "source": [
    "ev=model.evaluate(input_fn=input_func,steps=100)\n",
    "print(ev)\n",
    "# towfurther tweak the model if we add rmse is part of evaluation metrics https://www.tensorflow.org/versions/r1.3/extend/estimators#constructing-modelfn"
   ]
  },
  {
   "cell_type": "code",
   "execution_count": 242,
   "metadata": {
    "collapsed": false,
    "deletable": true,
    "editable": true
   },
   "outputs": [
    {
     "name": "stderr",
     "output_type": "stream",
     "text": [
      "Exception ignored in: <generator object Estimator.predict at 0x7fb574e360f8>\n",
      "Traceback (most recent call last):\n",
      "  File \"/usr/local/envs/py3env/lib/python3.5/site-packages/tensorflow/python/estimator/estimator.py\", line 440, in predict\n",
      "    for key, value in six.iteritems(preds_evaluated)\n",
      "  File \"/usr/local/envs/py3env/lib/python3.5/contextlib.py\", line 77, in __exit__\n",
      "    self.gen.throw(type, value, traceback)\n",
      "  File \"/usr/local/envs/py3env/lib/python3.5/site-packages/tensorflow/python/framework/ops.py\", line 4647, in get_controller\n",
      "    type(default))\n",
      "AssertionError: Nesting violated for default stack of <class 'tensorflow.python.framework.ops.Graph'> objects\n"
     ]
    },
    {
     "name": "stdout",
     "output_type": "stream",
     "text": [
      "INFO:tensorflow:Restoring parameters from /content/datalab/notebooks/model/model.ckpt-2500\n",
      "INFO:tensorflow:Restoring parameters from /content/datalab/notebooks/model/model.ckpt-2500\n"
     ]
    }
   ],
   "source": [
    "y_pred=model.predict(input_fn=test_func)\n",
    "y_pred_test=model.predict(input_fn=input_func)\n",
    "y_pred1=[]\n",
    "for i in range(500000):\n",
    "  y_pred1.append(next(y_pred))\n",
    "exact_pred=[i['predictions'][0] for i in y_pred1]\n",
    "y_train_pred=[]\n",
    "for i in range(500000):\n",
    "  y_train_pred.append(next(y_pred_test))\n",
    "exact_train=[i['predictions'][0] for i in y_train_pred]"
   ]
  },
  {
   "cell_type": "code",
   "execution_count": 243,
   "metadata": {
    "collapsed": false,
    "deletable": true,
    "editable": true
   },
   "outputs": [
    {
     "name": "stdout",
     "output_type": "stream",
     "text": [
      "Model Accuracy on test data is 0.9299606595940411 \n",
      "Model Accuracy on train data is 0.9270839339833001 \n"
     ]
    }
   ],
   "source": [
    "from sklearn.metrics import mean_squared_error,r2_score\n",
    "#print(mean_squared_error(y_test[0:len(exact_pred)],exact_pred))\n",
    "print(\"Model Accuracy on test data is {} \".format(r2_score(y_test[0:len(exact_pred)],exact_pred)))\n",
    "#print(mean_squared_error(y_train[0:len(exact_train)],exact_train))\n",
    "print(\"Model Accuracy on train data is {} \".format(r2_score(y_train[0:len(exact_pred)],exact_train)))"
   ]
  },
  {
   "cell_type": "code",
   "execution_count": 247,
   "metadata": {
    "collapsed": false,
    "deletable": true,
    "editable": true
   },
   "outputs": [
    {
     "data": {
      "text/plain": [
       "array([-0.34271473,  0.00671753,  0.11543884,  0.23377183,  0.09515811,\n",
       "        0.34150186,  0.39087343,  0.04226578,  0.2889858 , -0.8780768 ],\n",
       "      dtype=float32)"
      ]
     },
     "execution_count": 247,
     "metadata": {},
     "output_type": "execute_result"
    }
   ],
   "source": [
    "model.get_variable_value(model.get_variable_names()[0])"
   ]
  },
  {
   "cell_type": "code",
   "execution_count": 251,
   "metadata": {
    "collapsed": false,
    "deletable": true,
    "editable": true
   },
   "outputs": [
    {
     "data": {
      "text/plain": [
       "array([2.2519038e+06, 2.9160580e+07, 3.0388722e+07, 1.0951514e+07,\n",
       "       3.5894281e+04, 1.0420382e+08, 5.1590788e+07, 8.7311859e+00,\n",
       "       6.6957844e+07, 1.0641035e+08, 1.3827319e+07, 1.8864728e+06,\n",
       "       1.2861621e+08, 9.7954576e+07, 3.7187860e+07, 1.3821417e+07,\n",
       "       4.6945420e+07, 2.2584021e+02, 1.5907749e+08, 1.1645870e+08,\n",
       "       8.5369024e+07, 2.4518869e+08, 1.4049160e+04, 1.8592948e+07,\n",
       "       6.9605648e+07, 8.9832632e+07, 1.1188794e+07, 4.6288348e+07,\n",
       "       1.5849202e+06, 1.3823688e+07], dtype=float32)"
      ]
     },
     "execution_count": 251,
     "metadata": {},
     "output_type": "execute_result"
    }
   ],
   "source": [
    "model.get_variable_value(model.get_variable_names()[5])"
   ]
  },
  {
   "cell_type": "markdown",
   "metadata": {},
   "source": [
    "#### Prepare dummy dataset with various Weather delays to check the model delay\n",
    "Q6. How well does weather predict plane delays?\n",
    "Ans: As per below results Weatherdelay is linearly correlated with flight departure delays and resultant model correlation is 0.96\n",
    "Methodology: \n",
    "            * Checked correlation coefficient in 2008 data set it is 0.267\n",
    "            * Generated random dataset where all the other features are constant and only Wealther delay is varying as per normal distribution.\n",
    "            * Predicted Departure delays for all these instances. To check modeled relation between weather delay and DepDelay.\n",
    "        Result is Weather delays positively correlated, i.e, bad weather will make flight departure delayed, in a very positive sense."
   ]
  },
  {
   "cell_type": "code",
   "execution_count": 50,
   "metadata": {
    "collapsed": false
   },
   "outputs": [
    {
     "data": {
      "text/html": [
       "<div>\n",
       "<style scoped>\n",
       "    .dataframe tbody tr th:only-of-type {\n",
       "        vertical-align: middle;\n",
       "    }\n",
       "\n",
       "    .dataframe tbody tr th {\n",
       "        vertical-align: top;\n",
       "    }\n",
       "\n",
       "    .dataframe thead th {\n",
       "        text-align: right;\n",
       "    }\n",
       "</style>\n",
       "<table border=\"1\" class=\"dataframe\">\n",
       "  <thead>\n",
       "    <tr style=\"text-align: right;\">\n",
       "      <th></th>\n",
       "      <th>Diverted</th>\n",
       "      <th>CarrierDelay</th>\n",
       "      <th>WeatherDelay</th>\n",
       "      <th>NASDelay</th>\n",
       "      <th>SecurityDelay</th>\n",
       "      <th>LateAircraftDelay</th>\n",
       "      <th>Month</th>\n",
       "      <th>DayOfWeek</th>\n",
       "      <th>DepDelay</th>\n",
       "    </tr>\n",
       "  </thead>\n",
       "  <tbody>\n",
       "    <tr>\n",
       "      <th>Diverted</th>\n",
       "      <td>1.000000</td>\n",
       "      <td>-0.008783</td>\n",
       "      <td>-0.003649</td>\n",
       "      <td>-0.011490</td>\n",
       "      <td>-0.000963</td>\n",
       "      <td>-0.011331</td>\n",
       "      <td>0.001648</td>\n",
       "      <td>0.001474</td>\n",
       "      <td>0.023817</td>\n",
       "    </tr>\n",
       "    <tr>\n",
       "      <th>CarrierDelay</th>\n",
       "      <td>-0.008783</td>\n",
       "      <td>1.000000</td>\n",
       "      <td>-0.006361</td>\n",
       "      <td>0.021384</td>\n",
       "      <td>-0.002353</td>\n",
       "      <td>0.031086</td>\n",
       "      <td>-0.016642</td>\n",
       "      <td>0.008812</td>\n",
       "      <td>0.598834</td>\n",
       "    </tr>\n",
       "    <tr>\n",
       "      <th>WeatherDelay</th>\n",
       "      <td>-0.003649</td>\n",
       "      <td>-0.006361</td>\n",
       "      <td>1.000000</td>\n",
       "      <td>0.046730</td>\n",
       "      <td>-0.001231</td>\n",
       "      <td>0.025791</td>\n",
       "      <td>-0.004172</td>\n",
       "      <td>0.004388</td>\n",
       "      <td>0.276385</td>\n",
       "    </tr>\n",
       "    <tr>\n",
       "      <th>NASDelay</th>\n",
       "      <td>-0.011490</td>\n",
       "      <td>0.021384</td>\n",
       "      <td>0.046730</td>\n",
       "      <td>1.000000</td>\n",
       "      <td>0.002643</td>\n",
       "      <td>0.061160</td>\n",
       "      <td>-0.015686</td>\n",
       "      <td>0.001284</td>\n",
       "      <td>0.355861</td>\n",
       "    </tr>\n",
       "    <tr>\n",
       "      <th>SecurityDelay</th>\n",
       "      <td>-0.000963</td>\n",
       "      <td>-0.002353</td>\n",
       "      <td>-0.001231</td>\n",
       "      <td>0.002643</td>\n",
       "      <td>1.000000</td>\n",
       "      <td>0.002283</td>\n",
       "      <td>-0.003353</td>\n",
       "      <td>0.002486</td>\n",
       "      <td>0.024840</td>\n",
       "    </tr>\n",
       "    <tr>\n",
       "      <th>LateAircraftDelay</th>\n",
       "      <td>-0.011331</td>\n",
       "      <td>0.031086</td>\n",
       "      <td>0.025791</td>\n",
       "      <td>0.061160</td>\n",
       "      <td>0.002283</td>\n",
       "      <td>1.000000</td>\n",
       "      <td>-0.020374</td>\n",
       "      <td>0.009433</td>\n",
       "      <td>0.641781</td>\n",
       "    </tr>\n",
       "    <tr>\n",
       "      <th>Month</th>\n",
       "      <td>0.001648</td>\n",
       "      <td>-0.016642</td>\n",
       "      <td>-0.004172</td>\n",
       "      <td>-0.015686</td>\n",
       "      <td>-0.003353</td>\n",
       "      <td>-0.020374</td>\n",
       "      <td>1.000000</td>\n",
       "      <td>-0.005344</td>\n",
       "      <td>-0.030037</td>\n",
       "    </tr>\n",
       "    <tr>\n",
       "      <th>DayOfWeek</th>\n",
       "      <td>0.001474</td>\n",
       "      <td>0.008812</td>\n",
       "      <td>0.004388</td>\n",
       "      <td>0.001284</td>\n",
       "      <td>0.002486</td>\n",
       "      <td>0.009433</td>\n",
       "      <td>-0.005344</td>\n",
       "      <td>1.000000</td>\n",
       "      <td>0.015295</td>\n",
       "    </tr>\n",
       "    <tr>\n",
       "      <th>DepDelay</th>\n",
       "      <td>0.023817</td>\n",
       "      <td>0.598834</td>\n",
       "      <td>0.276385</td>\n",
       "      <td>0.355861</td>\n",
       "      <td>0.024840</td>\n",
       "      <td>0.641781</td>\n",
       "      <td>-0.030037</td>\n",
       "      <td>0.015295</td>\n",
       "      <td>1.000000</td>\n",
       "    </tr>\n",
       "  </tbody>\n",
       "</table>\n",
       "</div>"
      ],
      "text/plain": [
       "                   Diverted  CarrierDelay  WeatherDelay  NASDelay  \\\n",
       "Diverted           1.000000     -0.008783     -0.003649 -0.011490   \n",
       "CarrierDelay      -0.008783      1.000000     -0.006361  0.021384   \n",
       "WeatherDelay      -0.003649     -0.006361      1.000000  0.046730   \n",
       "NASDelay          -0.011490      0.021384      0.046730  1.000000   \n",
       "SecurityDelay     -0.000963     -0.002353     -0.001231  0.002643   \n",
       "LateAircraftDelay -0.011331      0.031086      0.025791  0.061160   \n",
       "Month              0.001648     -0.016642     -0.004172 -0.015686   \n",
       "DayOfWeek          0.001474      0.008812      0.004388  0.001284   \n",
       "DepDelay           0.023817      0.598834      0.276385  0.355861   \n",
       "\n",
       "                   SecurityDelay  LateAircraftDelay     Month  DayOfWeek  \\\n",
       "Diverted               -0.000963          -0.011331  0.001648   0.001474   \n",
       "CarrierDelay           -0.002353           0.031086 -0.016642   0.008812   \n",
       "WeatherDelay           -0.001231           0.025791 -0.004172   0.004388   \n",
       "NASDelay                0.002643           0.061160 -0.015686   0.001284   \n",
       "SecurityDelay           1.000000           0.002283 -0.003353   0.002486   \n",
       "LateAircraftDelay       0.002283           1.000000 -0.020374   0.009433   \n",
       "Month                  -0.003353          -0.020374  1.000000  -0.005344   \n",
       "DayOfWeek               0.002486           0.009433 -0.005344   1.000000   \n",
       "DepDelay                0.024840           0.641781 -0.030037   0.015295   \n",
       "\n",
       "                   DepDelay  \n",
       "Diverted           0.023817  \n",
       "CarrierDelay       0.598834  \n",
       "WeatherDelay       0.276385  \n",
       "NASDelay           0.355861  \n",
       "SecurityDelay      0.024840  \n",
       "LateAircraftDelay  0.641781  \n",
       "Month             -0.030037  \n",
       "DayOfWeek          0.015295  \n",
       "DepDelay           1.000000  "
      ]
     },
     "execution_count": 50,
     "metadata": {},
     "output_type": "execute_result"
    }
   ],
   "source": [
    "main_df_req1.corr()"
   ]
  },
  {
   "cell_type": "code",
   "execution_count": 54,
   "metadata": {
    "collapsed": false
   },
   "outputs": [
    {
     "data": {
      "text/html": [
       "<div>\n",
       "<style scoped>\n",
       "    .dataframe tbody tr th:only-of-type {\n",
       "        vertical-align: middle;\n",
       "    }\n",
       "\n",
       "    .dataframe tbody tr th {\n",
       "        vertical-align: top;\n",
       "    }\n",
       "\n",
       "    .dataframe thead th {\n",
       "        text-align: right;\n",
       "    }\n",
       "</style>\n",
       "<table border=\"1\" class=\"dataframe\">\n",
       "  <thead>\n",
       "    <tr style=\"text-align: right;\">\n",
       "      <th></th>\n",
       "      <th>WeatherDelay</th>\n",
       "      <th>Diverted</th>\n",
       "      <th>CarrierDelay</th>\n",
       "      <th>NASDelay</th>\n",
       "      <th>SecurityDelay</th>\n",
       "      <th>LateAircraftDelay</th>\n",
       "      <th>Month</th>\n",
       "      <th>DayOfWeek</th>\n",
       "    </tr>\n",
       "  </thead>\n",
       "  <tbody>\n",
       "    <tr>\n",
       "      <th>count</th>\n",
       "      <td>20000.000000</td>\n",
       "      <td>20000.0</td>\n",
       "      <td>20000.0</td>\n",
       "      <td>20000.0</td>\n",
       "      <td>20000.0</td>\n",
       "      <td>20000.0</td>\n",
       "      <td>20000.0</td>\n",
       "      <td>20000.0</td>\n",
       "    </tr>\n",
       "    <tr>\n",
       "      <th>mean</th>\n",
       "      <td>0.226873</td>\n",
       "      <td>0.0</td>\n",
       "      <td>0.0</td>\n",
       "      <td>0.0</td>\n",
       "      <td>0.0</td>\n",
       "      <td>0.0</td>\n",
       "      <td>1.0</td>\n",
       "      <td>1.0</td>\n",
       "    </tr>\n",
       "    <tr>\n",
       "      <th>std</th>\n",
       "      <td>99.468537</td>\n",
       "      <td>0.0</td>\n",
       "      <td>0.0</td>\n",
       "      <td>0.0</td>\n",
       "      <td>0.0</td>\n",
       "      <td>0.0</td>\n",
       "      <td>0.0</td>\n",
       "      <td>0.0</td>\n",
       "    </tr>\n",
       "    <tr>\n",
       "      <th>min</th>\n",
       "      <td>-374.044919</td>\n",
       "      <td>0.0</td>\n",
       "      <td>0.0</td>\n",
       "      <td>0.0</td>\n",
       "      <td>0.0</td>\n",
       "      <td>0.0</td>\n",
       "      <td>1.0</td>\n",
       "      <td>1.0</td>\n",
       "    </tr>\n",
       "    <tr>\n",
       "      <th>25%</th>\n",
       "      <td>-66.592321</td>\n",
       "      <td>0.0</td>\n",
       "      <td>0.0</td>\n",
       "      <td>0.0</td>\n",
       "      <td>0.0</td>\n",
       "      <td>0.0</td>\n",
       "      <td>1.0</td>\n",
       "      <td>1.0</td>\n",
       "    </tr>\n",
       "    <tr>\n",
       "      <th>50%</th>\n",
       "      <td>0.482783</td>\n",
       "      <td>0.0</td>\n",
       "      <td>0.0</td>\n",
       "      <td>0.0</td>\n",
       "      <td>0.0</td>\n",
       "      <td>0.0</td>\n",
       "      <td>1.0</td>\n",
       "      <td>1.0</td>\n",
       "    </tr>\n",
       "    <tr>\n",
       "      <th>75%</th>\n",
       "      <td>67.727170</td>\n",
       "      <td>0.0</td>\n",
       "      <td>0.0</td>\n",
       "      <td>0.0</td>\n",
       "      <td>0.0</td>\n",
       "      <td>0.0</td>\n",
       "      <td>1.0</td>\n",
       "      <td>1.0</td>\n",
       "    </tr>\n",
       "    <tr>\n",
       "      <th>max</th>\n",
       "      <td>361.884709</td>\n",
       "      <td>0.0</td>\n",
       "      <td>0.0</td>\n",
       "      <td>0.0</td>\n",
       "      <td>0.0</td>\n",
       "      <td>0.0</td>\n",
       "      <td>1.0</td>\n",
       "      <td>1.0</td>\n",
       "    </tr>\n",
       "  </tbody>\n",
       "</table>\n",
       "</div>"
      ],
      "text/plain": [
       "       WeatherDelay  Diverted  CarrierDelay  NASDelay  SecurityDelay  \\\n",
       "count  20000.000000   20000.0       20000.0   20000.0        20000.0   \n",
       "mean       0.226873       0.0           0.0       0.0            0.0   \n",
       "std       99.468537       0.0           0.0       0.0            0.0   \n",
       "min     -374.044919       0.0           0.0       0.0            0.0   \n",
       "25%      -66.592321       0.0           0.0       0.0            0.0   \n",
       "50%        0.482783       0.0           0.0       0.0            0.0   \n",
       "75%       67.727170       0.0           0.0       0.0            0.0   \n",
       "max      361.884709       0.0           0.0       0.0            0.0   \n",
       "\n",
       "       LateAircraftDelay    Month  DayOfWeek  \n",
       "count            20000.0  20000.0    20000.0  \n",
       "mean                 0.0      1.0        1.0  \n",
       "std                  0.0      0.0        0.0  \n",
       "min                  0.0      1.0        1.0  \n",
       "25%                  0.0      1.0        1.0  \n",
       "50%                  0.0      1.0        1.0  \n",
       "75%                  0.0      1.0        1.0  \n",
       "max                  0.0      1.0        1.0  "
      ]
     },
     "execution_count": 54,
     "metadata": {},
     "output_type": "execute_result"
    }
   ],
   "source": [
    "temp_df= pd.DataFrame({'WeatherDelay':np.random.randn(20000)*100})\n",
    "temp_df['UniqueCarrier']='WN'\n",
    "temp_df['Diverted']=0\n",
    "temp_df['CarrierDelay']=0\n",
    "temp_df['NASDelay']=0\n",
    "temp_df['SecurityDelay']=0\n",
    "temp_df['LateAircraftDelay']=0\n",
    "temp_df['Month']=1\n",
    "temp_df['DayOfWeek']=1\n",
    "temp_df.describe()"
   ]
  },
  {
   "cell_type": "code",
   "execution_count": 55,
   "metadata": {
    "collapsed": true
   },
   "outputs": [],
   "source": [
    "pred_func=tf.estimator.inputs.pandas_input_fn(x=temp_df,batch_size=100,num_epochs=1,shuffle=False)"
   ]
  },
  {
   "cell_type": "code",
   "execution_count": 56,
   "metadata": {
    "collapsed": false
   },
   "outputs": [
    {
     "name": "stdout",
     "output_type": "stream",
     "text": [
      "INFO:tensorflow:Restoring parameters from /content/datalab/notebooks/model/model.ckpt-5000\n"
     ]
    }
   ],
   "source": [
    "pred_temp_df=model.predict(pred_func)\n",
    "temp_df_pred=[]\n",
    "for i in pred_temp_df:\n",
    "  temp_df_pred.append(i['predictions'][0])"
   ]
  },
  {
   "cell_type": "code",
   "execution_count": 57,
   "metadata": {
    "collapsed": false
   },
   "outputs": [
    {
     "name": "stdout",
     "output_type": "stream",
     "text": [
      "<class 'pandas.core.frame.DataFrame'>\n",
      "RangeIndex: 20000 entries, 0 to 19999\n",
      "Data columns (total 10 columns):\n",
      "WeatherDelay         20000 non-null float64\n",
      "UniqueCarrier        20000 non-null object\n",
      "Diverted             20000 non-null int64\n",
      "CarrierDelay         20000 non-null int64\n",
      "NASDelay             20000 non-null int64\n",
      "SecurityDelay        20000 non-null int64\n",
      "LateAircraftDelay    20000 non-null int64\n",
      "Month                20000 non-null int64\n",
      "DayOfWeek            20000 non-null int64\n",
      "DepDelay             20000 non-null float64\n",
      "dtypes: float64(2), int64(7), object(1)\n",
      "memory usage: 1.5+ MB\n"
     ]
    }
   ],
   "source": [
    "temp_df['DepDelay']=temp_df_pred\n",
    "temp_df.info()"
   ]
  },
  {
   "cell_type": "code",
   "execution_count": 58,
   "metadata": {
    "collapsed": false
   },
   "outputs": [
    {
     "data": {
      "text/plain": [
       "<matplotlib.axes._subplots.AxesSubplot at 0x7f88a4bf7320>"
      ]
     },
     "execution_count": 58,
     "metadata": {},
     "output_type": "execute_result"
    },
    {
     "name": "stderr",
     "output_type": "stream",
     "text": [
      "/usr/local/envs/py3env/lib/python3.5/site-packages/matplotlib/font_manager.py:1320: UserWarning: findfont: Font family ['sans-serif'] not found. Falling back to DejaVu Sans\n",
      "  (prop.get_family(), self.defaultFamily[fontext]))\n"
     ]
    },
    {
     "data": {
      "image/png": "[encoded data removed]",
      "text/plain": [
       "<matplotlib.figure.Figure at 0x7f88a4bfbe48>"
      ]
     },
     "metadata": {},
     "output_type": "display_data"
    }
   ],
   "source": [
    "temp_df.iloc[0:2000,:].plot(kind='scatter',x='WeatherDelay',y='DepDelay',figsize=(7,4))"
   ]
  },
  {
   "cell_type": "code",
   "execution_count": null,
   "metadata": {
    "collapsed": true
   },
   "outputs": [],
   "source": []
  }
 ],
 "metadata": {
  "kernelspec": {
   "display_name": "Python 3",
   "language": "python",
   "name": "python3"
  },
  "language_info": {
   "codemirror_mode": {
    "name": "ipython",
    "version": 3
   },
   "file_extension": ".py",
   "mimetype": "text/x-python",
   "name": "python",
   "nbconvert_exporter": "python",
   "pygments_lexer": "ipython3",
   "version": "3.5.5"
  }
 },
 "nbformat": 4,
 "nbformat_minor": 2
}
