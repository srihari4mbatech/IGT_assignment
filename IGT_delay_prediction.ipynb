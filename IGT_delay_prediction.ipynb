{
 "cells": [
  {
   "cell_type": "code",
   "execution_count": 231,
   "metadata": {
    "collapsed": false,
    "deletable": true,
    "editable": true
   },
   "outputs": [],
   "source": [
    "import pandas as pd\n",
    "import numpy as np\n",
    "import matplotlib.pyplot as plt\n",
    "%matplotlib inline\n",
    "import tensorflow as tf\n",
    "import seaborn as sns\n",
    "from sklearn.model_selection import train_test_split\n",
    "import os"
   ]
  },
  {
   "cell_type": "markdown",
   "metadata": {
    "deletable": true,
    "editable": true
   },
   "source": [
    "## Create a model to predict the delays"
   ]
  },
  {
   "cell_type": "markdown",
   "metadata": {
    "deletable": true,
    "editable": true
   },
   "source": [
    "#### Through this workbook,I am goin to answer below questions:\n",
    "* Create a model to predict flight delays?\n",
    "* How well does weather predict plane delays?"
   ]
  },
  {
   "cell_type": "code",
   "execution_count": 135,
   "metadata": {
    "collapsed": true,
    "deletable": true,
    "editable": true
   },
   "outputs": [],
   "source": [
    "df_2008=pd.read_csv('2008.csv')\n",
    "df_2007=pd.read_csv('2007.csv')\n",
    "airport_df=pd.read_csv('airports.csv')\n",
    "carrier_df=pd.read_csv('carriers.csv')\n",
    "planes_df=pd.read_csv('plane-data.csv')\n",
    "main_df=pd.concat([df_2008],ignore_index=True)"
   ]
  },
  {
   "cell_type": "code",
   "execution_count": 136,
   "metadata": {
    "collapsed": false,
    "deletable": true,
    "editable": true
   },
   "outputs": [],
   "source": [
    "main_df['Date']=pd.to_datetime(pd.DataFrame({'year':main_df['Year'],'month':main_df['Month'],'day':main_df['DayofMonth']}))"
   ]
  },
  {
   "cell_type": "markdown",
   "metadata": {
    "deletable": true,
    "editable": true
   },
   "source": [
    "#### Problem statement - Is there any delay in the flight or not? If there is a delay do that is Dep Delay or Arr Delay or both or None. IF so how much of departure delay and how much of arrival delay\n",
    "There are two regression problems in this questions.\n",
    "#### Problem Statement1 - How much is Departure Delay for this particural plane\n",
    "#### Problem Statement2 - How much is Arrival Delay for this particural plane\n",
    "Key parameters can be considered are:\n",
    "Target parameter: DepDelay or Arr Delay (Prepare a column Total Delay)\n",
    "#### Problem1 model below"
   ]
  },
  {
   "cell_type": "code",
   "execution_count": 137,
   "metadata": {
    "collapsed": false,
    "deletable": true,
    "editable": true
   },
   "outputs": [],
   "source": [
    "main_df.columns\n",
    "key_columns=['CRSDepTime','CRSArrTime','UniqueCarrier','AirTime','Diverted','CarrierDelay','WeatherDelay','NASDelay','SecurityDelay',\n",
    "            'LateAircraftDelay','Month','DayOfWeek','DepDelay']\n",
    "key2_columns=['UniqueCarrier','Diverted','CarrierDelay','WeatherDelay','NASDelay','SecurityDelay',\n",
    "            'LateAircraftDelay','Month','DayOfWeek','DepDelay']"
   ]
  },
  {
   "cell_type": "code",
   "execution_count": 138,
   "metadata": {
    "collapsed": false,
    "deletable": true,
    "editable": true
   },
   "outputs": [],
   "source": [
    "main_df_req=main_df[key2_columns].copy()"
   ]
  },
  {
   "cell_type": "code",
   "execution_count": 139,
   "metadata": {
    "collapsed": false,
    "deletable": true,
    "editable": true
   },
   "outputs": [
    {
     "name": "stderr",
     "output_type": "stream",
     "text": [
      "/usr/local/envs/py3env/lib/python3.5/site-packages/matplotlib/font_manager.py:1320: UserWarning: findfont: Font family ['sans-serif'] not found. Falling back to DejaVu Sans\n",
      "  (prop.get_family(), self.defaultFamily[fontext]))\n"
     ]
    },
    {
     "data": {
      "text/plain": [
       "<matplotlib.axes._subplots.AxesSubplot at 0x7fb58d0a4a58>"
      ]
     },
     "execution_count": 139,
     "metadata": {},
     "output_type": "execute_result"
    },
    {
     "data": {
      "image/png": "[encoded data removed]",
      "text/plain": [
       "<matplotlib.figure.Figure at 0x7fb598e06780>"
      ]
     },
     "metadata": {},
     "output_type": "display_data"
    }
   ],
   "source": [
    "sns.heatmap(main_df_req.corr())"
   ]
  },
  {
   "cell_type": "code",
   "execution_count": 140,
   "metadata": {
    "collapsed": false,
    "deletable": true,
    "editable": true
   },
   "outputs": [
    {
     "data": {
      "text/plain": [
       "<matplotlib.axes._subplots.AxesSubplot at 0x7fb599edc5c0>"
      ]
     },
     "execution_count": 140,
     "metadata": {},
     "output_type": "execute_result"
    },
    {
     "name": "stderr",
     "output_type": "stream",
     "text": [
      "/usr/local/envs/py3env/lib/python3.5/site-packages/matplotlib/font_manager.py:1320: UserWarning: findfont: Font family ['sans-serif'] not found. Falling back to DejaVu Sans\n",
      "  (prop.get_family(), self.defaultFamily[fontext]))\n"
     ]
    },
    {
     "data": {
      "image/png": "[encoded data removed]",
      "text/plain": [
       "<matplotlib.figure.Figure at 0x7fb594beea20>"
      ]
     },
     "metadata": {},
     "output_type": "display_data"
    }
   ],
   "source": [
    "main_df_req.boxplot(column='DepDelay',by='Diverted')"
   ]
  },
  {
   "cell_type": "code",
   "execution_count": 141,
   "metadata": {
    "collapsed": false,
    "deletable": true,
    "editable": true
   },
   "outputs": [
    {
     "name": "stderr",
     "output_type": "stream",
     "text": [
      "/usr/local/envs/py3env/lib/python3.5/site-packages/seaborn/categorical.py:450: FutureWarning: remove_na is deprecated and is a private function. Do not use.\n",
      "  box_data = remove_na(group_data)\n"
     ]
    },
    {
     "data": {
      "text/plain": [
       "<matplotlib.axes._subplots.AxesSubplot at 0x7fb58c8fc048>"
      ]
     },
     "execution_count": 141,
     "metadata": {},
     "output_type": "execute_result"
    },
    {
     "name": "stderr",
     "output_type": "stream",
     "text": [
      "/usr/local/envs/py3env/lib/python3.5/site-packages/matplotlib/font_manager.py:1320: UserWarning: findfont: Font family ['sans-serif'] not found. Falling back to DejaVu Sans\n",
      "  (prop.get_family(), self.defaultFamily[fontext]))\n"
     ]
    },
    {
     "data": {
      "image/png": "[encoded data removed]",
      "text/plain": [
       "<matplotlib.figure.Figure at 0x7fb599ab5898>"
      ]
     },
     "metadata": {},
     "output_type": "display_data"
    }
   ],
   "source": [
    "sns.boxplot(x='Diverted',y='DepDelay',data=main_df_req)"
   ]
  },
  {
   "cell_type": "code",
   "execution_count": 142,
   "metadata": {
    "collapsed": false,
    "deletable": true,
    "editable": true
   },
   "outputs": [
    {
     "data": {
      "text/plain": [
       "count    6.873482e+06\n",
       "mean     9.972570e+00\n",
       "std      3.531127e+01\n",
       "min     -5.340000e+02\n",
       "1%      -1.200000e+01\n",
       "5%      -9.000000e+00\n",
       "50%     -1.000000e+00\n",
       "95%      7.000000e+01\n",
       "99%      1.640000e+02\n",
       "max      2.467000e+03\n",
       "Name: DepDelay, dtype: float64"
      ]
     },
     "execution_count": 142,
     "metadata": {},
     "output_type": "execute_result"
    }
   ],
   "source": [
    "main_df_req['DepDelay'].describe(percentiles=[0.01,0.05,0.95,0.99])"
   ]
  },
  {
   "cell_type": "code",
   "execution_count": 143,
   "metadata": {
    "collapsed": false,
    "deletable": true,
    "editable": true
   },
   "outputs": [
    {
     "name": "stdout",
     "output_type": "stream",
     "text": [
      "Index(['UniqueCarrier', 'Diverted', 'CarrierDelay', 'WeatherDelay', 'NASDelay',\n",
      "       'SecurityDelay', 'LateAircraftDelay', 'Month', 'DayOfWeek', 'DepDelay'],\n",
      "      dtype='object')\n",
      "['WN', 'XE', 'YV', 'OH', 'OO', 'UA', 'US', 'DL', 'EV', 'F9', 'FL', 'HA', 'MQ', 'NW', '9E', 'AA', 'AQ', 'AS', 'B6', 'CO']\n"
     ]
    }
   ],
   "source": [
    "print(main_df_req.columns)\n",
    "lst=list(main_df_req['UniqueCarrier'].unique())\n",
    "print(lst)\n",
    "main_df_req1=main_df_req[main_df_req['DepDelay'].isnull()==False].fillna(0)"
   ]
  },
  {
   "cell_type": "code",
   "execution_count": 144,
   "metadata": {
    "collapsed": false,
    "deletable": true,
    "editable": true
   },
   "outputs": [
    {
     "data": {
      "text/plain": [
       "array([4, 5, 6, 7, 1, 2, 3])"
      ]
     },
     "execution_count": 144,
     "metadata": {},
     "output_type": "execute_result"
    }
   ],
   "source": [
    "main_df['DayOfWeek'].unique()"
   ]
  },
  {
   "cell_type": "code",
   "execution_count": 145,
   "metadata": {
    "collapsed": false,
    "deletable": true,
    "editable": true
   },
   "outputs": [],
   "source": [
    "Unq_carr=tf.feature_column.categorical_column_with_hash_bucket('UniqueCarrier',hash_bucket_size=20)\n",
    "diver=tf.feature_column.categorical_column_with_vocabulary_list('Diverted',[1,0])\n",
    "Car_del=tf.feature_column.numeric_column('CarrierDelay')\n",
    "wt_del=tf.feature_column.numeric_column('WeatherDelay')\n",
    "Nas_del=tf.feature_column.numeric_column('NASDelay')\n",
    "Sec_del=tf.feature_column.numeric_column('SecurityDelay')\n",
    "Late_del=tf.feature_column.numeric_column('LateAircraftDelay')\n",
    "Month=tf.feature_column.categorical_column_with_vocabulary_list('Month',[1,2,3,4,5,6,7,8,9,10,11,12])\n",
    "DayOfWeek=tf.feature_column.categorical_column_with_vocabulary_list('DayOfWeek',[1,2,3,4,5,6,7])\n",
    "DepDelay=tf.feature_column.numeric_column('DepDelay')\n",
    "Unq_car=tf.feature_column.indicator_column(Unq_carr)\n",
    "diverted=tf.feature_column.indicator_column(diver)\n",
    "day_week=tf.feature_column.indicator_column(DayOfWeek)\n",
    "day_mnth=tf.feature_column.indicator_column(Month)"
   ]
  },
  {
   "cell_type": "code",
   "execution_count": 172,
   "metadata": {
    "collapsed": false,
    "deletable": true,
    "editable": true
   },
   "outputs": [],
   "source": [
    "feat_cols=[Unq_car,diverted,Car_del,wt_del,Nas_del,Sec_del,Late_del,day_mnth,day_week]\n",
    "x_train,x_test,y_train,y_test=train_test_split(main_df_req1.iloc[:,:-1],main_df_req1.iloc[:,-1],random_state=100,train_size=0.8)"
   ]
  },
  {
   "cell_type": "markdown",
   "metadata": {
    "deletable": true,
    "editable": true
   },
   "source": [
    "Create an input function"
   ]
  },
  {
   "cell_type": "code",
   "execution_count": 183,
   "metadata": {
    "collapsed": false,
    "deletable": true,
    "editable": true
   },
   "outputs": [],
   "source": [
    "input_func=tf.estimator.inputs.pandas_input_fn(x=x_train,y=y_train,batch_size=100,num_epochs=11,shuffle=False)\n",
    "test_func=tf.estimator.inputs.pandas_input_fn(x=x_test,y=y_test,batch_size=100,num_epochs=11,shuffle=False)"
   ]
  },
  {
   "cell_type": "markdown",
   "metadata": {
    "deletable": true,
    "editable": true
   },
   "source": [
    "Create DNNRegressor model"
   ]
  },
  {
   "cell_type": "code",
   "execution_count": 239,
   "metadata": {
    "collapsed": false,
    "deletable": true,
    "editable": true
   },
   "outputs": [
    {
     "name": "stdout",
     "output_type": "stream",
     "text": [
      "INFO:tensorflow:Using default config.\n",
      "INFO:tensorflow:Using config: {'_num_worker_replicas': 1, '_service': None, '_task_type': 'worker', '_save_summary_steps': 100, '_tf_random_seed': None, '_save_checkpoints_steps': None, '_num_ps_replicas': 0, '_is_chief': True, '_save_checkpoints_secs': 600, '_keep_checkpoint_max': 5, '_model_dir': '/content/datalab/notebooks/model', '_keep_checkpoint_every_n_hours': 10000, '_cluster_spec': <tensorflow.python.training.server_lib.ClusterSpec object at 0x7fb574e46390>, '_task_id': 0, '_master': '', '_log_step_count_steps': 100, '_session_config': None}\n"
     ]
    }
   ],
   "source": [
    "model=tf.estimator.DNNRegressor(feature_columns=feat_cols,hidden_units=[10,30,30,30,10],activation_fn=tf.nn.relu,\n",
    "                                optimizer=tf.train.ProximalAdagradOptimizer(learning_rate=0.05,l1_regularization_strength=0.001),\n",
    "                               model_dir=os.getcwd()+'/model')"
   ]
  },
  {
   "cell_type": "code",
   "execution_count": 234,
   "metadata": {
    "collapsed": false
   },
   "outputs": [
    {
     "name": "stdout",
     "output_type": "stream",
     "text": [
      "/content/datalab/notebooks\n"
     ]
    }
   ],
   "source": [
    "print(os.getcwd())"
   ]
  },
  {
   "cell_type": "code",
   "execution_count": 240,
   "metadata": {
    "collapsed": false,
    "deletable": true,
    "editable": true
   },
   "outputs": [
    {
     "name": "stdout",
     "output_type": "stream",
     "text": [
      "INFO:tensorflow:Create CheckpointSaverHook.\n",
      "INFO:tensorflow:Saving checkpoints for 1 into /content/datalab/notebooks/model/model.ckpt.\n",
      "INFO:tensorflow:step = 1, loss = 77659.9\n",
      "INFO:tensorflow:global_step/sec: 228.397\n",
      "INFO:tensorflow:step = 101, loss = 14652.742 (0.447 sec)\n",
      "INFO:tensorflow:global_step/sec: 213.116\n",
      "INFO:tensorflow:step = 201, loss = 9804.433 (0.465 sec)\n",
      "INFO:tensorflow:global_step/sec: 218.211\n",
      "INFO:tensorflow:step = 301, loss = 11387.388 (0.459 sec)\n",
      "INFO:tensorflow:global_step/sec: 215.529\n",
      "INFO:tensorflow:step = 401, loss = 5215.9404 (0.460 sec)\n",
      "INFO:tensorflow:global_step/sec: 219.342\n",
      "INFO:tensorflow:step = 501, loss = 4780.608 (0.456 sec)\n",
      "INFO:tensorflow:global_step/sec: 212.579\n",
      "INFO:tensorflow:step = 601, loss = 5432.058 (0.472 sec)\n",
      "INFO:tensorflow:global_step/sec: 215.642\n",
      "INFO:tensorflow:step = 701, loss = 6199.977 (0.465 sec)\n",
      "INFO:tensorflow:global_step/sec: 216.697\n",
      "INFO:tensorflow:step = 801, loss = 9588.434 (0.462 sec)\n",
      "INFO:tensorflow:global_step/sec: 214.364\n",
      "INFO:tensorflow:step = 901, loss = 3371.0183 (0.468 sec)\n",
      "INFO:tensorflow:global_step/sec: 213.625\n",
      "INFO:tensorflow:step = 1001, loss = 9386.849 (0.463 sec)\n",
      "INFO:tensorflow:global_step/sec: 214.553\n",
      "INFO:tensorflow:step = 1101, loss = 4252.8438 (0.471 sec)\n",
      "INFO:tensorflow:global_step/sec: 215.928\n",
      "INFO:tensorflow:step = 1201, loss = 5690.7773 (0.465 sec)\n",
      "INFO:tensorflow:global_step/sec: 219.448\n",
      "INFO:tensorflow:step = 1301, loss = 5593.986 (0.453 sec)\n",
      "INFO:tensorflow:global_step/sec: 215.065\n",
      "INFO:tensorflow:step = 1401, loss = 5420.3516 (0.462 sec)\n",
      "INFO:tensorflow:global_step/sec: 217.73\n",
      "INFO:tensorflow:step = 1501, loss = 5295.4307 (0.462 sec)\n",
      "INFO:tensorflow:global_step/sec: 223.396\n",
      "INFO:tensorflow:step = 1601, loss = 4559.5615 (0.448 sec)\n",
      "INFO:tensorflow:global_step/sec: 212.027\n",
      "INFO:tensorflow:step = 1701, loss = 9393.031 (0.469 sec)\n",
      "INFO:tensorflow:global_step/sec: 217.039\n",
      "INFO:tensorflow:step = 1801, loss = 4372.373 (0.466 sec)\n",
      "INFO:tensorflow:global_step/sec: 209.102\n",
      "INFO:tensorflow:step = 1901, loss = 7853.227 (0.476 sec)\n",
      "INFO:tensorflow:global_step/sec: 212.167\n",
      "INFO:tensorflow:step = 2001, loss = 3681.788 (0.471 sec)\n",
      "INFO:tensorflow:global_step/sec: 214.223\n",
      "INFO:tensorflow:step = 2101, loss = 31704.07 (0.465 sec)\n",
      "INFO:tensorflow:global_step/sec: 213.108\n",
      "INFO:tensorflow:step = 2201, loss = 6712.3975 (0.475 sec)\n",
      "INFO:tensorflow:global_step/sec: 218.384\n",
      "INFO:tensorflow:step = 2301, loss = 18708.541 (0.457 sec)\n",
      "INFO:tensorflow:global_step/sec: 220.117\n",
      "INFO:tensorflow:step = 2401, loss = 4412.5645 (0.451 sec)\n",
      "INFO:tensorflow:Saving checkpoints for 2500 into /content/datalab/notebooks/model/model.ckpt.\n",
      "INFO:tensorflow:Loss for final step: 20565.371.\n"
     ]
    },
    {
     "data": {
      "text/plain": [
       "<tensorflow.python.estimator.canned.dnn.DNNRegressor at 0x7fb574dcf7b8>"
      ]
     },
     "execution_count": 240,
     "metadata": {},
     "output_type": "execute_result"
    }
   ],
   "source": [
    "model.train(input_fn=input_func,steps=2500)"
   ]
  },
  {
   "cell_type": "code",
   "execution_count": 241,
   "metadata": {
    "collapsed": false,
    "deletable": true,
    "editable": true
   },
   "outputs": [
    {
     "name": "stdout",
     "output_type": "stream",
     "text": [
      "INFO:tensorflow:Starting evaluation at 2018-05-04-16:20:15\n",
      "INFO:tensorflow:Restoring parameters from /content/datalab/notebooks/model/model.ckpt-2500\n",
      "INFO:tensorflow:Evaluation [10/100]\n",
      "INFO:tensorflow:Evaluation [20/100]\n",
      "INFO:tensorflow:Evaluation [30/100]\n",
      "INFO:tensorflow:Evaluation [40/100]\n",
      "INFO:tensorflow:Evaluation [50/100]\n",
      "INFO:tensorflow:Evaluation [60/100]\n",
      "INFO:tensorflow:Evaluation [70/100]\n",
      "INFO:tensorflow:Evaluation [80/100]\n",
      "INFO:tensorflow:Evaluation [90/100]\n",
      "INFO:tensorflow:Evaluation [100/100]\n",
      "INFO:tensorflow:Finished evaluation at 2018-05-04-16:20:15\n",
      "INFO:tensorflow:Saving dict for global step 2500: average_loss = 82.01227, global_step = 2500, loss = 8201.227\n",
      "{'global_step': 2500, 'average_loss': 82.01227, 'loss': 8201.227}\n"
     ]
    }
   ],
   "source": [
    "ev=model.evaluate(input_fn=input_func,steps=100)\n",
    "print(ev)\n",
    "# towfurther tweak the model if we add rmse is part of evaluation metrics https://www.tensorflow.org/versions/r1.3/extend/estimators#constructing-modelfn"
   ]
  },
  {
   "cell_type": "code",
   "execution_count": 242,
   "metadata": {
    "collapsed": false
   },
   "outputs": [
    {
     "name": "stderr",
     "output_type": "stream",
     "text": [
      "Exception ignored in: <generator object Estimator.predict at 0x7fb574e360f8>\n",
      "Traceback (most recent call last):\n",
      "  File \"/usr/local/envs/py3env/lib/python3.5/site-packages/tensorflow/python/estimator/estimator.py\", line 440, in predict\n",
      "    for key, value in six.iteritems(preds_evaluated)\n",
      "  File \"/usr/local/envs/py3env/lib/python3.5/contextlib.py\", line 77, in __exit__\n",
      "    self.gen.throw(type, value, traceback)\n",
      "  File \"/usr/local/envs/py3env/lib/python3.5/site-packages/tensorflow/python/framework/ops.py\", line 4647, in get_controller\n",
      "    type(default))\n",
      "AssertionError: Nesting violated for default stack of <class 'tensorflow.python.framework.ops.Graph'> objects\n"
     ]
    },
    {
     "name": "stdout",
     "output_type": "stream",
     "text": [
      "INFO:tensorflow:Restoring parameters from /content/datalab/notebooks/model/model.ckpt-2500\n",
      "INFO:tensorflow:Restoring parameters from /content/datalab/notebooks/model/model.ckpt-2500\n"
     ]
    }
   ],
   "source": [
    "y_pred=model.predict(input_fn=test_func)\n",
    "y_pred_test=model.predict(input_fn=input_func)\n",
    "y_pred1=[]\n",
    "for i in range(500000):\n",
    "  y_pred1.append(next(y_pred))\n",
    "exact_pred=[i['predictions'][0] for i in y_pred1]\n",
    "y_train_pred=[]\n",
    "for i in range(500000):\n",
    "  y_train_pred.append(next(y_pred_test))\n",
    "exact_train=[i['predictions'][0] for i in y_train_pred]"
   ]
  },
  {
   "cell_type": "code",
   "execution_count": 243,
   "metadata": {
    "collapsed": false
   },
   "outputs": [
    {
     "name": "stdout",
     "output_type": "stream",
     "text": [
      "Model Accuracy on test data is 0.9299606595940411 \n",
      "Model Accuracy on train data is 0.9270839339833001 \n"
     ]
    }
   ],
   "source": [
    "from sklearn.metrics import mean_squared_error,r2_score\n",
    "#print(mean_squared_error(y_test[0:len(exact_pred)],exact_pred))\n",
    "print(\"Model Accuracy on test data is {} \".format(r2_score(y_test[0:len(exact_pred)],exact_pred)))\n",
    "#print(mean_squared_error(y_train[0:len(exact_train)],exact_train))\n",
    "print(\"Model Accuracy on train data is {} \".format(r2_score(y_train[0:len(exact_pred)],exact_train)))"
   ]
  },
  {
   "cell_type": "code",
   "execution_count": 247,
   "metadata": {
    "collapsed": false,
    "deletable": true,
    "editable": true
   },
   "outputs": [
    {
     "data": {
      "text/plain": [
       "array([-0.34271473,  0.00671753,  0.11543884,  0.23377183,  0.09515811,\n",
       "        0.34150186,  0.39087343,  0.04226578,  0.2889858 , -0.8780768 ],\n",
       "      dtype=float32)"
      ]
     },
     "execution_count": 247,
     "metadata": {},
     "output_type": "execute_result"
    }
   ],
   "source": [
    "model.get_variable_value(model.get_variable_names()[0])"
   ]
  },
  {
   "cell_type": "code",
   "execution_count": 251,
   "metadata": {
    "collapsed": false
   },
   "outputs": [
    {
     "data": {
      "text/plain": [
       "array([2.2519038e+06, 2.9160580e+07, 3.0388722e+07, 1.0951514e+07,\n",
       "       3.5894281e+04, 1.0420382e+08, 5.1590788e+07, 8.7311859e+00,\n",
       "       6.6957844e+07, 1.0641035e+08, 1.3827319e+07, 1.8864728e+06,\n",
       "       1.2861621e+08, 9.7954576e+07, 3.7187860e+07, 1.3821417e+07,\n",
       "       4.6945420e+07, 2.2584021e+02, 1.5907749e+08, 1.1645870e+08,\n",
       "       8.5369024e+07, 2.4518869e+08, 1.4049160e+04, 1.8592948e+07,\n",
       "       6.9605648e+07, 8.9832632e+07, 1.1188794e+07, 4.6288348e+07,\n",
       "       1.5849202e+06, 1.3823688e+07], dtype=float32)"
      ]
     },
     "execution_count": 251,
     "metadata": {},
     "output_type": "execute_result"
    }
   ],
   "source": [
    "model.get_variable_value(model.get_variable_names()[5])"
   ]
  },
  {
   "cell_type": "code",
   "execution_count": null,
   "metadata": {
    "collapsed": true
   },
   "outputs": [],
   "source": []
  }
 ],
 "metadata": {
  "kernelspec": {
   "display_name": "Python 3",
   "language": "python",
   "name": "python3"
  },
  "language_info": {
   "codemirror_mode": {
    "name": "ipython",
    "version": 3
   },
   "file_extension": ".py",
   "mimetype": "text/x-python",
   "name": "python",
   "nbconvert_exporter": "python",
   "pygments_lexer": "ipython3",
   "version": "3.5.5"
  }
 },
 "nbformat": 4,
 "nbformat_minor": 2
}
