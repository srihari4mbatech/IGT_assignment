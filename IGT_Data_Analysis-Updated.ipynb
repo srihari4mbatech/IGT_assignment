{
 "cells": [
  {
   "cell_type": "code",
   "execution_count": 23,
   "metadata": {
    "collapsed": false,
    "deletable": true,
    "editable": true
   },
   "outputs": [],
   "source": [
    "from google.datalab import Context\n",
    "import google.datalab.bigquery as bq\n",
    "import google.datalab.storage as storage\n",
    "import pandas as pd\n",
    "import numpy as np\n",
    "import spc as pc\n",
    "try:\n",
    "  from StringIO import StringIO\n",
    "except ImportError:\n",
    "  from io import BytesIO as StringIO\n",
    "import matplotlib.pyplot as plt\n",
    "%matplotlib inline"
   ]
  },
  {
   "cell_type": "markdown",
   "metadata": {
    "deletable": true,
    "editable": true
   },
   "source": [
    "Please consider only 2007 & 2008 from stats to solve below questions:\n",
    "* Which Carrier performs better?\n",
    "* When is the best time of day/day of week/time of year to fly to minimise delays?\n",
    "* Do older planes suffer more delays?\n",
    "* Can you detect cascading failures as delays in one airport create delays in others? Are there critical links in the system?\n",
    "* Create a model to predict flight delays?\n",
    "* How well does weather predict plane delays?"
   ]
  },
  {
   "cell_type": "markdown",
   "metadata": {
    "deletable": true,
    "editable": true
   },
   "source": [
    "### Below code is to extract files from internet and unzip them"
   ]
  },
  {
   "cell_type": "code",
   "execution_count": null,
   "metadata": {
    "collapsed": false,
    "deletable": true,
    "editable": true
   },
   "outputs": [],
   "source": [
    "import requests,bz2,os\n",
    "def pull_decompress(year):\n",
    "  '''\n",
    "  This function downloads file to local drive and decompresses the file. This has function takes argument as the year from 1988 to 2008\n",
    "  '''\n",
    "  try:\n",
    "    url= \"http://stat-computing.org/dataexpo/2009/\"+str(year)+\".csv.bz2\"\n",
    "    r =requests.get(url)\n",
    "    try:\n",
    "      os.remove(str(year)+'.csv.bz2')\n",
    "      os.remove(str(year)+'.csv')\n",
    "    except OSError:\n",
    "      pass\n",
    "    with open(str(year)+'.csv.bz2','wb') as f:\n",
    "      f.write(r.content)\n",
    "    data=bz2.BZ2File(str(year)+'.csv.bz2','rb').read()\n",
    "    open(str(year)+'.csv','wb').write(data)\n",
    "    return True\n",
    "  except IOError:\n",
    "    return False\n",
    "    "
   ]
  },
  {
   "cell_type": "markdown",
   "metadata": {
    "deletable": true,
    "editable": true
   },
   "source": [
    "### Downloading Data from  sources using bash commands"
   ]
  },
  {
   "cell_type": "code",
   "execution_count": null,
   "metadata": {
    "collapsed": false,
    "deletable": true,
    "editable": true
   },
   "outputs": [],
   "source": [
    "!wget \"http://stat-computing.org/dataexpo/2009/airports.csv\"\n",
    "!wget \"http://stat-computing.org/dataexpo/2009/carriers.csv\"\n",
    "!wget \"http://stat-computing.org/dataexpo/2009/plane-data.csv\"\n",
    "!wget \"http://stat-computing.org/dataexpo/2009/2008.csv.bz2\"\n",
    "!bzip2 -d '2008.csv.bz2'\n",
    "!wget \"http://stat-computing.org/dataexpo/2009/2007.csv.bz2\"\n",
    "!bzip2 -d '2007.csv.bz2'"
   ]
  },
  {
   "cell_type": "markdown",
   "metadata": {
    "deletable": true,
    "editable": true
   },
   "source": [
    "### Loading data from local drive to dataframe"
   ]
  },
  {
   "cell_type": "code",
   "execution_count": 9,
   "metadata": {
    "collapsed": false,
    "deletable": true,
    "editable": true
   },
   "outputs": [],
   "source": [
    "df_2008=pd.read_csv('2008.csv')\n",
    "df_2007=pd.read_csv('2007.csv')\n",
    "airport_df=pd.read_csv('airports.csv')\n",
    "carrier_df=pd.read_csv('carriers.csv')\n",
    "planes_df=pd.read_csv('plane-data.csv')\n",
    "main_df=pd.concat([df_2008,df_2007],ignore_index=True)"
   ]
  },
  {
   "cell_type": "markdown",
   "metadata": {
    "deletable": true,
    "editable": true
   },
   "source": [
    "#### Details of Data "
   ]
  },
  {
   "cell_type": "code",
   "execution_count": 3,
   "metadata": {
    "collapsed": false,
    "deletable": true,
    "editable": true
   },
   "outputs": [
    {
     "name": "stdout",
     "output_type": "stream",
     "text": [
      "(7009728, 29) (7453215, 29)\n",
      "<class 'pandas.core.frame.DataFrame'>\n",
      "RangeIndex: 14462943 entries, 0 to 14462942\n",
      "Data columns (total 29 columns):\n",
      "Year                 int64\n",
      "Month                int64\n",
      "DayofMonth           int64\n",
      "DayOfWeek            int64\n",
      "DepTime              float64\n",
      "CRSDepTime           int64\n",
      "ArrTime              float64\n",
      "CRSArrTime           int64\n",
      "UniqueCarrier        object\n",
      "FlightNum            int64\n",
      "TailNum              object\n",
      "ActualElapsedTime    float64\n",
      "CRSElapsedTime       float64\n",
      "AirTime              float64\n",
      "ArrDelay             float64\n",
      "DepDelay             float64\n",
      "Origin               object\n",
      "Dest                 object\n",
      "Distance             int64\n",
      "TaxiIn               float64\n",
      "TaxiOut              float64\n",
      "Cancelled            int64\n",
      "CancellationCode     object\n",
      "Diverted             int64\n",
      "CarrierDelay         float64\n",
      "WeatherDelay         float64\n",
      "NASDelay             float64\n",
      "SecurityDelay        float64\n",
      "LateAircraftDelay    float64\n",
      "dtypes: float64(14), int64(10), object(5)\n",
      "memory usage: 3.1+ GB\n"
     ]
    }
   ],
   "source": [
    "print(df_2008.shape,df_2007.shape)\n",
    "main_df.info()"
   ]
  },
  {
   "cell_type": "code",
   "execution_count": 34,
   "metadata": {
    "collapsed": false,
    "deletable": true,
    "editable": true
   },
   "outputs": [
    {
     "data": {
      "text/html": [
       "<div>\n",
       "<style scoped>\n",
       "    .dataframe tbody tr th:only-of-type {\n",
       "        vertical-align: middle;\n",
       "    }\n",
       "\n",
       "    .dataframe tbody tr th {\n",
       "        vertical-align: top;\n",
       "    }\n",
       "\n",
       "    .dataframe thead th {\n",
       "        text-align: right;\n",
       "    }\n",
       "</style>\n",
       "<table border=\"1\" class=\"dataframe\">\n",
       "  <thead>\n",
       "    <tr style=\"text-align: right;\">\n",
       "      <th></th>\n",
       "      <th>count</th>\n",
       "      <th>mean</th>\n",
       "      <th>std</th>\n",
       "      <th>min</th>\n",
       "      <th>25%</th>\n",
       "      <th>50%</th>\n",
       "      <th>75%</th>\n",
       "      <th>max</th>\n",
       "    </tr>\n",
       "  </thead>\n",
       "  <tbody>\n",
       "    <tr>\n",
       "      <th>Cancelled</th>\n",
       "      <td>14462943.0000</td>\n",
       "      <td>0.0206</td>\n",
       "      <td>0.1421</td>\n",
       "      <td>0.0000</td>\n",
       "      <td>0.0000</td>\n",
       "      <td>0.0000</td>\n",
       "      <td>0.0000</td>\n",
       "      <td>1.0000</td>\n",
       "    </tr>\n",
       "    <tr>\n",
       "      <th>ArrDelay</th>\n",
       "      <td>14130317.0000</td>\n",
       "      <td>9.2104</td>\n",
       "      <td>38.9320</td>\n",
       "      <td>-519.0000</td>\n",
       "      <td>-10.0000</td>\n",
       "      <td>-1.0000</td>\n",
       "      <td>13.0000</td>\n",
       "      <td>2598.0000</td>\n",
       "    </tr>\n",
       "    <tr>\n",
       "      <th>DepDelay</th>\n",
       "      <td>14165949.0000</td>\n",
       "      <td>10.7070</td>\n",
       "      <td>35.7484</td>\n",
       "      <td>-534.0000</td>\n",
       "      <td>-4.0000</td>\n",
       "      <td>-1.0000</td>\n",
       "      <td>9.0000</td>\n",
       "      <td>2601.0000</td>\n",
       "    </tr>\n",
       "    <tr>\n",
       "      <th>AirTime</th>\n",
       "      <td>14130317.0000</td>\n",
       "      <td>103.3994</td>\n",
       "      <td>67.8586</td>\n",
       "      <td>0.0000</td>\n",
       "      <td>55.0000</td>\n",
       "      <td>85.0000</td>\n",
       "      <td>131.0000</td>\n",
       "      <td>1350.0000</td>\n",
       "    </tr>\n",
       "    <tr>\n",
       "      <th>Distance</th>\n",
       "      <td>14462943.0000</td>\n",
       "      <td>722.9955</td>\n",
       "      <td>562.2162</td>\n",
       "      <td>11.0000</td>\n",
       "      <td>323.0000</td>\n",
       "      <td>576.0000</td>\n",
       "      <td>948.0000</td>\n",
       "      <td>4962.0000</td>\n",
       "    </tr>\n",
       "    <tr>\n",
       "      <th>Diverted</th>\n",
       "      <td>14462943.0000</td>\n",
       "      <td>0.0024</td>\n",
       "      <td>0.0487</td>\n",
       "      <td>0.0000</td>\n",
       "      <td>0.0000</td>\n",
       "      <td>0.0000</td>\n",
       "      <td>0.0000</td>\n",
       "      <td>1.0000</td>\n",
       "    </tr>\n",
       "    <tr>\n",
       "      <th>CarrierDelay</th>\n",
       "      <td>8977950.0000</td>\n",
       "      <td>5.8874</td>\n",
       "      <td>25.5675</td>\n",
       "      <td>0.0000</td>\n",
       "      <td>0.0000</td>\n",
       "      <td>0.0000</td>\n",
       "      <td>0.0000</td>\n",
       "      <td>2580.0000</td>\n",
       "    </tr>\n",
       "    <tr>\n",
       "      <th>WeatherDelay</th>\n",
       "      <td>8977950.0000</td>\n",
       "      <td>1.1554</td>\n",
       "      <td>11.9224</td>\n",
       "      <td>0.0000</td>\n",
       "      <td>0.0000</td>\n",
       "      <td>0.0000</td>\n",
       "      <td>0.0000</td>\n",
       "      <td>1429.0000</td>\n",
       "    </tr>\n",
       "    <tr>\n",
       "      <th>NASDelay</th>\n",
       "      <td>8977950.0000</td>\n",
       "      <td>6.0562</td>\n",
       "      <td>20.3778</td>\n",
       "      <td>0.0000</td>\n",
       "      <td>0.0000</td>\n",
       "      <td>0.0000</td>\n",
       "      <td>0.0000</td>\n",
       "      <td>1386.0000</td>\n",
       "    </tr>\n",
       "    <tr>\n",
       "      <th>SecurityDelay</th>\n",
       "      <td>8977950.0000</td>\n",
       "      <td>0.0324</td>\n",
       "      <td>1.2455</td>\n",
       "      <td>0.0000</td>\n",
       "      <td>0.0000</td>\n",
       "      <td>0.0000</td>\n",
       "      <td>0.0000</td>\n",
       "      <td>392.0000</td>\n",
       "    </tr>\n",
       "    <tr>\n",
       "      <th>LateAircraftDelay</th>\n",
       "      <td>8977950.0000</td>\n",
       "      <td>7.7607</td>\n",
       "      <td>25.9275</td>\n",
       "      <td>0.0000</td>\n",
       "      <td>0.0000</td>\n",
       "      <td>0.0000</td>\n",
       "      <td>0.0000</td>\n",
       "      <td>1316.0000</td>\n",
       "    </tr>\n",
       "  </tbody>\n",
       "</table>\n",
       "</div>"
      ],
      "text/plain": [
       "                          count     mean      std       min      25%      50%  \\\n",
       "Cancelled         14462943.0000   0.0206   0.1421    0.0000   0.0000   0.0000   \n",
       "ArrDelay          14130317.0000   9.2104  38.9320 -519.0000 -10.0000  -1.0000   \n",
       "DepDelay          14165949.0000  10.7070  35.7484 -534.0000  -4.0000  -1.0000   \n",
       "AirTime           14130317.0000 103.3994  67.8586    0.0000  55.0000  85.0000   \n",
       "Distance          14462943.0000 722.9955 562.2162   11.0000 323.0000 576.0000   \n",
       "Diverted          14462943.0000   0.0024   0.0487    0.0000   0.0000   0.0000   \n",
       "CarrierDelay       8977950.0000   5.8874  25.5675    0.0000   0.0000   0.0000   \n",
       "WeatherDelay       8977950.0000   1.1554  11.9224    0.0000   0.0000   0.0000   \n",
       "NASDelay           8977950.0000   6.0562  20.3778    0.0000   0.0000   0.0000   \n",
       "SecurityDelay      8977950.0000   0.0324   1.2455    0.0000   0.0000   0.0000   \n",
       "LateAircraftDelay  8977950.0000   7.7607  25.9275    0.0000   0.0000   0.0000   \n",
       "\n",
       "                       75%       max  \n",
       "Cancelled           0.0000    1.0000  \n",
       "ArrDelay           13.0000 2598.0000  \n",
       "DepDelay            9.0000 2601.0000  \n",
       "AirTime           131.0000 1350.0000  \n",
       "Distance          948.0000 4962.0000  \n",
       "Diverted            0.0000    1.0000  \n",
       "CarrierDelay        0.0000 2580.0000  \n",
       "WeatherDelay        0.0000 1429.0000  \n",
       "NASDelay            0.0000 1386.0000  \n",
       "SecurityDelay       0.0000  392.0000  \n",
       "LateAircraftDelay   0.0000 1316.0000  "
      ]
     },
     "execution_count": 34,
     "metadata": {},
     "output_type": "execute_result"
    }
   ],
   "source": [
    "pd.options.display.float_format = '{:.04f}'.format\n",
    "imp_col=['Cancelled','ArrDelay','DepDelay','AirTime','Distance','Diverted','CarrierDelay','WeatherDelay','NASDelay','SecurityDelay','LateAircraftDelay']\n",
    "main_df[imp_col].describe().T\n",
    "#main_df[['NASDelay','SecurityDelay','LateAircraftDelay']].describe()\n",
    "#temp=main_df.styles.format()\n",
    "#main_df[main_df['AirTime']==0].groupby('UniqueCarrier')['ArrTime'].count()\n",
    "#main_df[main_df['Cancelled']==1].groupby('UniqueCarrier')['UniqueCarrier'].count()\n",
    "#main_df[main_df['AirTime']==0][['UniqueCarrier','DepTime','CRSDepTime','ArrTime','AirTime']]"
   ]
  },
  {
   "cell_type": "code",
   "execution_count": 5,
   "metadata": {
    "collapsed": false,
    "deletable": true,
    "editable": true
   },
   "outputs": [],
   "source": [
    "#F9 has lowest percentage of Cancellations compages to all the Carriers\n",
    "#Total cancelled flights are 2.061\n",
    "#main_df[main_df['Cancelled']==1].shape[0]/main_df.shape[0]\n",
    "Cancel_series=pd.Series(main_df[main_df['Cancelled']==1]['UniqueCarrier'].value_counts()/main_df['UniqueCarrier'].value_counts()).sort_values()"
   ]
  },
  {
   "cell_type": "code",
   "execution_count": 6,
   "metadata": {
    "collapsed": false,
    "deletable": true,
    "editable": true
   },
   "outputs": [
    {
     "data": {
      "text/plain": [
       "Text(0.5,1,'Percentage of cancelled flights from each carrier')"
      ]
     },
     "execution_count": 6,
     "metadata": {},
     "output_type": "execute_result"
    },
    {
     "name": "stderr",
     "output_type": "stream",
     "text": [
      "/usr/local/envs/py3env/lib/python3.5/site-packages/matplotlib/font_manager.py:1320: UserWarning: findfont: Font family ['sans-serif'] not found. Falling back to DejaVu Sans\n",
      "  (prop.get_family(), self.defaultFamily[fontext]))\n"
     ]
    },
    {
     "data": {
      "image/png": "[encoded data removed]",
      "text/plain": [
       "<matplotlib.figure.Figure at 0x7f19477fe908>"
      ]
     },
     "metadata": {},
     "output_type": "display_data"
    }
   ],
   "source": [
    "fig=plt.figure(figsize=(10,7))\n",
    "ax=fig.add_subplot(111)\n",
    "Cancel_series.plot(kind='bar',ax=ax)\n",
    "ax.set_xlabel('Unique Carrier')\n",
    "ax.set_title('Percentage of cancelled flights from each carrier')"
   ]
  },
  {
   "cell_type": "code",
   "execution_count": 7,
   "metadata": {
    "collapsed": false,
    "deletable": true,
    "editable": true
   },
   "outputs": [
    {
     "data": {
      "text/plain": [
       "<matplotlib.axes._subplots.AxesSubplot at 0x7f18e6edcf60>"
      ]
     },
     "execution_count": 7,
     "metadata": {},
     "output_type": "execute_result"
    },
    {
     "name": "stderr",
     "output_type": "stream",
     "text": [
      "/usr/local/envs/py3env/lib/python3.5/site-packages/matplotlib/font_manager.py:1320: UserWarning: findfont: Font family ['sans-serif'] not found. Falling back to DejaVu Sans\n",
      "  (prop.get_family(), self.defaultFamily[fontext]))\n"
     ]
    },
    {
     "data": {
      "image/png": "[encoded data removed]",
      "text/plain": [
       "<matplotlib.figure.Figure at 0x7f19477f8518>"
      ]
     },
     "metadata": {},
     "output_type": "display_data"
    }
   ],
   "source": [
    "Non_cacel=main_df[main_df['Cancelled']==0]\n",
    "Non_cacel[['UniqueCarrier','ArrDelay','DepDelay']].groupby(['UniqueCarrier']).sum().sort_values(by='DepDelay').plot(kind='bar',figsize=(10,7),title='Volume of non-cancelled flights')"
   ]
  },
  {
   "cell_type": "code",
   "execution_count": 8,
   "metadata": {
    "collapsed": false,
    "deletable": true,
    "editable": true
   },
   "outputs": [
    {
     "data": {
      "text/plain": [
       "<matplotlib.axes._subplots.AxesSubplot at 0x7f1901677198>"
      ]
     },
     "execution_count": 8,
     "metadata": {},
     "output_type": "execute_result"
    },
    {
     "name": "stderr",
     "output_type": "stream",
     "text": [
      "/usr/local/envs/py3env/lib/python3.5/site-packages/matplotlib/font_manager.py:1320: UserWarning: findfont: Font family ['sans-serif'] not found. Falling back to DejaVu Sans\n",
      "  (prop.get_family(), self.defaultFamily[fontext]))\n"
     ]
    },
    {
     "data": {
      "image/png": "[encoded data removed]",
      "text/plain": [
       "<matplotlib.figure.Figure at 0x7f1944fa3f98>"
      ]
     },
     "metadata": {},
     "output_type": "display_data"
    }
   ],
   "source": [
    "pd.Series(Non_cacel['UniqueCarrier'].value_counts()/Non_cacel.shape[0]).plot(kind='bar',figsize=(10,7),title=\"Percentage of Non-Cancelled flights\")"
   ]
  },
  {
   "cell_type": "markdown",
   "metadata": {
    "deletable": true,
    "editable": true
   },
   "source": [
    "#### Below are functions which provide mathematical model/weighted average model to find performance of carrier"
   ]
  },
  {
   "cell_type": "code",
   "execution_count": null,
   "metadata": {
    "collapsed": false,
    "deletable": true,
    "editable": true
   },
   "outputs": [],
   "source": [
    "def group_car(main_df):\n",
    "  cancel_df=main_df[main_df['Cancelled']==1]['UniqueCarrier'].value_counts()/main_df['UniqueCarrier'].value_counts()\n",
    "  non_cancel=main_df[main_df['Cancelled']==0]\n",
    "  delay_dept=non_cancel[(non_cancel['DepDelay']!=0) |(non_cancel['ArrDelay']!=0)].groupby('UniqueCarrier')['DepDelay'].count()/non_cancel['UniqueCarrier'].value_counts()\n",
    "  share_flight=non_cancel['UniqueCarrier'].value_counts()/non_cancel.shape[0]\n",
    "  non_cancel['squared_val_Dep_delay']= non_cancel['DepDelay']**2\n",
    "  non_cancel['squared_val_Arr_delay']=non_cancel['ArrDelay']**2\n",
    "  total_delay=np.sqrt(non_cancel.groupby('UniqueCarrier')['squared_val_Dep_delay'].sum()/non_cancel['UniqueCarrier'].value_counts())+np.sqrt(non_cancel.groupby('UniqueCarrier')['squared_val_Arr_delay'].sum()/non_cancel['UniqueCarrier'].value_counts())\n",
    "  final_del_data=pd.concat([share_flight,cancel_df,delay_dept,total_delay],axis=1,ignore_index=False)\n",
    "  final_del_data.columns=['flight_share','Cacel_per','dep_del_per','total_delay']\n",
    "  #Arr_delay=np.sqrt(non_cancel.groupby('UniqueCarrier')['squared_val_Arr_delay'].sum()/non_cancel['UniqueCarrier'].value_counts())\n",
    "  return final_del_data\n",
    "\n",
    "def perform_eval(df):\n",
    "  ''' This function should contain a calculative model which can measure performance of carries\n",
    "  based on number of cancellation per year, \n",
    "  number of delayed departure,\n",
    "  percentage of flights its making, absolute number of total minutes of delayed departure\n",
    "  f(x)= 0.35*per_cancell+0.25*delay_departure+0.25*share_of_flights+0.15*squared_val_delayed\n",
    "  '''\n",
    "  df['Non_Perform_index']=0.35*df['Cacel_per']+0.15*df['dep_del_per']+0.15*(1/df['flight_share'])+0.35*df['total_delay']\n",
    "  #df['Perform_index']=0.35*df['Cacel_per']+0.3*df['dep_del_per']+0.35*df['total_delay']\n",
    "  global carrier_df\n",
    "  if 'Code' in carrier_df.columns:\n",
    "    carrier_df.set_index('Code',inplace=True)\n",
    "  df=df.merge(carrier_df,how='left',left_index=True,right_index=True)\n",
    "  df= df.sort_values(by='Non_Perform_index',ascending=True)\n",
    "  return df\n",
    "def HighPerform_carrier(df):\n",
    "  '''The input for this function is from perform_eval'''\n",
    "  return(df['Description'][0],df['Non_Perform_index'][0])\n",
    "\n",
    "def Perform_full(main_df):\n",
    "  return HighPerform_carrier(perform_eval(group_car(main_df)))"
   ]
  },
  {
   "cell_type": "code",
   "execution_count": null,
   "metadata": {
    "collapsed": false,
    "deletable": true,
    "editable": true
   },
   "outputs": [
    {
     "name": "stderr",
     "output_type": "stream",
     "text": [
      "/usr/local/envs/py3env/lib/python3.5/site-packages/ipykernel/__main__.py:6: SettingWithCopyWarning: \n",
      "A value is trying to be set on a copy of a slice from a DataFrame.\n",
      "Try using .loc[row_indexer,col_indexer] = value instead\n",
      "\n",
      "See the caveats in the documentation: http://pandas.pydata.org/pandas-docs/stable/indexing.html#indexing-view-versus-copy\n",
      "/usr/local/envs/py3env/lib/python3.5/site-packages/ipykernel/__main__.py:7: SettingWithCopyWarning: \n",
      "A value is trying to be set on a copy of a slice from a DataFrame.\n",
      "Try using .loc[row_indexer,col_indexer] = value instead\n",
      "\n",
      "See the caveats in the documentation: http://pandas.pydata.org/pandas-docs/stable/indexing.html#indexing-view-versus-copy\n"
     ]
    }
   ],
   "source": [
    "#data_final= group_car(main_df)\n",
    "#data_final_eval=perform_eval(data_final)\n",
    "#This line of code provides High performing carrier\n",
    "name,index=Perform_full(main_df)\n",
    "print(\"The High performance Carrier is {} and its score of index is {:.2f}\".format(name,index))"
   ]
  },
  {
   "cell_type": "markdown",
   "metadata": {
    "deletable": true,
    "editable": true
   },
   "source": [
    "### Below is statistical model to check carrier performance </br>\n",
    "\n",
    "\n",
    "###### The methodology for this is:"
   ]
  },
  {
   "cell_type": "markdown",
   "metadata": {
    "deletable": true,
    "editable": true
   },
   "source": [
    "**Statistical functions to calculate UCL, LCL and mean value of population**"
   ]
  },
  {
   "cell_type": "code",
   "execution_count": 7,
   "metadata": {
    "collapsed": false,
    "deletable": true,
    "editable": true
   },
   "outputs": [],
   "source": [
    "#df_2008_1=df_2008.set_index('Date')\n",
    "f = lambda x: np.max(x)-np.min(x)\n",
    "def x_bar(x):\n",
    "  return np.mean(x)/np.size(x)\n",
    "def x_mean(x):\n",
    "  return np.max(x)-np.min(x)\n",
    "def x_Ucl(x):\n",
    "  return np.mean(x)/np.size(x)+((np.max(x)-np.min(x))*3/(3.931*np.sqrt(25)))\n",
    "def x_Lcl(x):\n",
    "  return np.mean(x)/np.size(x)-((np.max(x)-np.min(x))*3/(3.931*np.sqrt(25)))\n",
    "def x_test(x):\n",
    "  ucl=x_Ucl(x)\n",
    "  lcl=x_Lcl(x)\n",
    "  return np.sum((x>ucl)|(x<lcl))/np.size(x)\n",
    "week_dict= {1:'Monday',2:'Tuesday',3:'Wednesday',4:'Thursday',5:'Friday',6:'Saturday',7:'Sunday'}\n",
    "month_dict= {1:'January',2:'Febraury',3:'March',4:'April',5:'May',6:'June',7:'July',8:'August',9:'September',10:'October',11:'November',12:'December'}"
   ]
  },
  {
   "cell_type": "markdown",
   "metadata": {
    "deletable": true,
    "editable": true
   },
   "source": [
    "Q1. **Which carrier performs better?**"
   ]
  },
  {
   "cell_type": "code",
   "execution_count": 32,
   "metadata": {
    "collapsed": false,
    "deletable": true,
    "editable": true
   },
   "outputs": [
    {
     "name": "stderr",
     "output_type": "stream",
     "text": [
      "/usr/local/envs/py3env/lib/python3.5/site-packages/ipykernel/__main__.py:2: SettingWithCopyWarning: \n",
      "A value is trying to be set on a copy of a slice from a DataFrame.\n",
      "Try using .loc[row_indexer,col_indexer] = value instead\n",
      "\n",
      "See the caveats in the documentation: http://pandas.pydata.org/pandas-docs/stable/indexing.html#indexing-view-versus-copy\n",
      "  from ipykernel import kernelapp as app\n"
     ]
    },
    {
     "name": "stdout",
     "output_type": "stream",
     "text": [
      "Best carrier with minimal delays is Hawaiian Airlines Inc. and worst carrier with major delay is Mesa Airlines Inc.\n"
     ]
    }
   ],
   "source": [
    "non_cancel=main_df[(main_df['Cancelled']==0) & (main_df['UniqueCarrier']!='AQ')]\n",
    "non_cancel['Date']= pd.to_datetime(pd.DataFrame({'year':non_cancel['Year'],'month':non_cancel['Month'],'day':non_cancel['DayofMonth']}))\n",
    "sample_data=non_cancel[['Date','UniqueCarrier','DepDelay','ArrDelay']].groupby(['Date','UniqueCarrier']).apply(lambda x: x.sample(n=25,random_state=100,replace=False).mean()).reset_index()\n",
    "carrier_sel=sample_data[['UniqueCarrier','DepDelay','ArrDelay']].groupby('UniqueCarrier').agg([x_bar,x_Lcl,x_Ucl,x_test])\n",
    "carrier_sel.columns = ['_'.join(col) for col in carrier_sel.columns]\n",
    "carrier_sel['Final_test']= (carrier_sel['DepDelay_x_test']+carrier_sel['ArrDelay_x_test'])/2\n",
    "carrier_sel=carrier_sel.sort_values(by='Final_test',ascending=True)\n",
    "if 'Code' in carrier_df.columns:\n",
    "    carrier_df.set_index('Code',inplace=True)\n",
    "carrier_sel=carrier_sel.merge(carrier_df,how='left',left_index=True,right_index=True)\n",
    "print(\"Best carrier with minimal delays is {} and worst carrier with major delay is {}\".format(carrier_sel['Description'][0],carrier_sel['Description'][-1]))\n",
    "#non_cancel_avg.head(10)"
   ]
  },
  {
   "cell_type": "code",
   "execution_count": 33,
   "metadata": {
    "collapsed": false,
    "deletable": true,
    "editable": true
   },
   "outputs": [
    {
     "data": {
      "text/plain": [
       "<matplotlib.axes._subplots.AxesSubplot at 0x7f1830eee0f0>"
      ]
     },
     "execution_count": 33,
     "metadata": {},
     "output_type": "execute_result"
    },
    {
     "name": "stderr",
     "output_type": "stream",
     "text": [
      "/usr/local/envs/py3env/lib/python3.5/site-packages/matplotlib/font_manager.py:1320: UserWarning: findfont: Font family ['sans-serif'] not found. Falling back to DejaVu Sans\n",
      "  (prop.get_family(), self.defaultFamily[fontext]))\n"
     ]
    },
    {
     "data": {
      "image/png": "[encoded data removed]",
      "text/plain": [
       "<matplotlib.figure.Figure at 0x7f1830eef668>"
      ]
     },
     "metadata": {},
     "output_type": "display_data"
    }
   ],
   "source": [
    "carrier_list= carrier_sel[['Description','Final_test']].reset_index()\n",
    "carrier_list.columns=['Carrier Code','Carrier Name','Percentage of Delay out of UCL-LCL (Least is Best)']\n",
    "carrier_list=carrier_list.set_index('Carrier Name')\n",
    "carrier_list[['Percentage of Delay out of UCL-LCL (Least is Best)']].plot(kind='bar',figsize=(10,7),title='Performance of Carriers')"
   ]
  },
  {
   "cell_type": "markdown",
   "metadata": {
    "deletable": true,
    "editable": true
   },
   "source": [
    "Q2. **When is the best time of day/day of week/time of year to fly to minimise delays?**"
   ]
  },
  {
   "cell_type": "code",
   "execution_count": 13,
   "metadata": {
    "collapsed": false,
    "deletable": true,
    "editable": true
   },
   "outputs": [
    {
     "name": "stdout",
     "output_type": "stream",
     "text": [
      "Best time to minimize delays is to travel on Sunday day of week\n"
     ]
    }
   ],
   "source": [
    "sample_data=non_cancel[['Date','DayOfWeek','DepDelay','ArrDelay']].groupby(['Date','DayOfWeek']).apply(lambda x: x.sample(n=25,random_state=100,replace=False).mean()).reset_index(drop=True)\n",
    "#sample_data= non_cancel_avg.groupby('DayOfWeek')\n",
    "#sample_data.head(10)\n",
    "sample_data_Dow=sample_data[['DayOfWeek','DepDelay','ArrDelay']].groupby('DayOfWeek').agg([x_bar,x_Lcl,x_Ucl,x_test])\n",
    "sample_data_Dow.columns = ['_'.join(col) for col in sample_data_Dow.columns]\n",
    "sample_data_Dow['Final_test']= (sample_data_Dow['DepDelay_x_test']+sample_data_Dow['ArrDelay_x_test'])/2\n",
    "sample_data_Dow=sample_data_Dow.sort_values(by='Final_test',ascending=True)\n",
    "print(\"Best time to minimize delays is to travel on {} day of week\".format(week_dict[sample_data_Dow.index[0]]))"
   ]
  },
  {
   "cell_type": "code",
   "execution_count": 14,
   "metadata": {
    "collapsed": false,
    "deletable": true,
    "editable": true
   },
   "outputs": [
    {
     "data": {
      "text/plain": [
       "<matplotlib.axes._subplots.AxesSubplot at 0x7f1831d4e208>"
      ]
     },
     "execution_count": 14,
     "metadata": {},
     "output_type": "execute_result"
    },
    {
     "name": "stderr",
     "output_type": "stream",
     "text": [
      "/usr/local/envs/py3env/lib/python3.5/site-packages/matplotlib/font_manager.py:1320: UserWarning: findfont: Font family ['sans-serif'] not found. Falling back to DejaVu Sans\n",
      "  (prop.get_family(), self.defaultFamily[fontext]))\n"
     ]
    },
    {
     "data": {
      "image/png": "[encoded data removed]",
      "text/plain": [
       "<matplotlib.figure.Figure at 0x7f1830f209e8>"
      ]
     },
     "metadata": {},
     "output_type": "display_data"
    }
   ],
   "source": [
    "sample_data_Dow.reset_index()[['DayOfWeek','Final_test']]\n",
    "Days_list= sample_data_Dow.reset_index()[['DayOfWeek','Final_test']]\n",
    "Days_list.columns=['DayOfWeek','Percentage of Delay out of UCL-LCL (Least is Best)']\n",
    "Days_list.loc[:,'WeekDayname']= Days_list['DayOfWeek'].apply(lambda x:week_dict[x])\n",
    "Days_list=Days_list[['WeekDayname','DayOfWeek','Percentage of Delay out of UCL-LCL (Least is Best)']].set_index('WeekDayname')\n",
    "Days_list[['Percentage of Delay out of UCL-LCL (Least is Best)']].plot(kind='bar',figsize= (10,6),title='Performance of carriers on each day')"
   ]
  },
  {
   "cell_type": "code",
   "execution_count": 15,
   "metadata": {
    "collapsed": false,
    "deletable": true,
    "editable": true
   },
   "outputs": [
    {
     "name": "stdout",
     "output_type": "stream",
     "text": [
      "Best time to minimize delays is to travel in November month\n"
     ]
    }
   ],
   "source": [
    "sample_data=non_cancel[['Date','Month','DepDelay','ArrDelay']].groupby(['Date']).apply(lambda x: x.sample(n=25,random_state=100,replace=False).mean()).reset_index(drop=True)\n",
    "#sample_data= non_cancel_avg.groupby('Month')\n",
    "#sample_data.head(10)\n",
    "sample_data_Mnth=sample_data[['Month','DepDelay','ArrDelay']].groupby('Month').agg([x_bar,x_Lcl,x_Ucl,x_test])\n",
    "sample_data_Mnth.columns = ['_'.join(col) for col in sample_data_Mnth.columns]\n",
    "sample_data_Mnth['Final_test']= (sample_data_Mnth['DepDelay_x_test']+sample_data_Mnth['ArrDelay_x_test'])/2\n",
    "sample_data_Mnth=sample_data_Mnth.sort_values(by='Final_test',ascending=True)\n",
    "print(\"Best time to minimize delays is to travel in {} month\".format(month_dict[sample_data_Mnth.index[0]]))"
   ]
  },
  {
   "cell_type": "code",
   "execution_count": 17,
   "metadata": {
    "collapsed": false,
    "deletable": true,
    "editable": true
   },
   "outputs": [
    {
     "data": {
      "text/plain": [
       "<matplotlib.axes._subplots.AxesSubplot at 0x7f18311b1be0>"
      ]
     },
     "execution_count": 17,
     "metadata": {},
     "output_type": "execute_result"
    },
    {
     "name": "stderr",
     "output_type": "stream",
     "text": [
      "/usr/local/envs/py3env/lib/python3.5/site-packages/matplotlib/font_manager.py:1320: UserWarning: findfont: Font family ['sans-serif'] not found. Falling back to DejaVu Sans\n",
      "  (prop.get_family(), self.defaultFamily[fontext]))\n"
     ]
    },
    {
     "data": {
      "image/png": "[encoded data removed]",
      "text/plain": [
       "<matplotlib.figure.Figure at 0x7f18318a41d0>"
      ]
     },
     "metadata": {},
     "output_type": "display_data"
    }
   ],
   "source": [
    "sample_data_Mnth.reset_index()[['Month','Final_test']]\n",
    "Months_list= sample_data_Mnth.reset_index()[['Month','Final_test']]\n",
    "Months_list.columns=['Month','Percentage of Delay out of UCL-LCL (Least is Best)']\n",
    "Months_list.loc[:,'Monthname']= Months_list['Month'].apply(lambda x:month_dict[x])\n",
    "Months_list=Months_list[['Monthname','Month','Percentage of Delay out of UCL-LCL (Least is Best)']].set_index('Monthname')\n",
    "Months_list[['Percentage of Delay out of UCL-LCL (Least is Best)']].plot(kind='bar',figsize= (10,6),title='Performance of carriers on each Month')"
   ]
  },
  {
   "cell_type": "code",
   "execution_count": null,
   "metadata": {
    "collapsed": true,
    "deletable": true,
    "editable": true
   },
   "outputs": [],
   "source": [
    "carrier_sel.to_csv('Carrier_results.csv')\n",
    "sample_data_Dow.to_csv('Scores for individual_date.csv')\n",
    "sample_data_Mnth.to_csv('Scores for individual_month.csv')"
   ]
  },
  {
   "cell_type": "code",
   "execution_count": null,
   "metadata": {
    "collapsed": false,
    "deletable": true,
    "editable": true
   },
   "outputs": [],
   "source": [
    "# Finding the probability of cancellation of flight for each carrier from the data\n",
    "#import scipy. probability of cancellation is 0.02,\n",
    "def prob(x):\n",
    "  #r=np.sum(x==1)\n",
    "  return np.sum(x==1)/np.size(x)\n",
    "sample_data= main_df.sample(frac=0.6,replace=False)['Cancelled'].copy()\n",
    "cancel_prob =sample_data.value_counts()/sample_data.shape[0]\n",
    "print(cancel_prob[1])"
   ]
  },
  {
   "cell_type": "markdown",
   "metadata": {
    "deletable": true,
    "editable": true
   },
   "source": [
    "Q3. **Do older planes suffer more delays?**"
   ]
  },
  {
   "cell_type": "code",
   "execution_count": null,
   "metadata": {
    "collapsed": false,
    "deletable": true,
    "editable": true
   },
   "outputs": [],
   "source": [
    "# Planes delay is same for older and newer planes\n",
    "# Alternate hypothesis is older planes do suffer more delay\n",
    "# confidence level is 95%,so alpha is 0.05%\n",
    "planes_df1=planes_df[planes_df['type'].isnull()==False]\n",
    "main_df_planes= main_df.merge(planes_df1[['tailnum','year']],how='left',left_on='TailNum',right_on='tailnum')\n",
    "from scipy.stats import chisquare\n",
    "main_df_planes['Delayed']= np.where((main_df_planes['DepDelay']!=0) |(main_df_planes['ArrDelay']!=0),1,0)\n",
    "chi,p =chisquare(np.array(main_df_planes.groupby(['year'])['Delayed'].sum()))\n",
    "print(\"P value {:.6f}\".format(p))\n",
    "if p <0.05:\n",
    "  print(\"There sufficient evidence to regect null hypothes\")\n",
    "else:\n",
    "  print(\"There  no sufficient evidence to reject null hypothes\")\n",
    "#Since null hypothesis is rejected, we can say older planes suffer more delay."
   ]
  },
  {
   "cell_type": "markdown",
   "metadata": {
    "deletable": true,
    "editable": true
   },
   "source": [
    "As per above chisquare test, its provide that we can regect null hypothesis and say carries delays are not indepent of year of manufacturing year. So its provide that older planes cause delay."
   ]
  },
  {
   "cell_type": "code",
   "execution_count": 3,
   "metadata": {
    "collapsed": false,
    "deletable": true,
    "editable": true
   },
   "outputs": [
    {
     "name": "stdout",
     "output_type": "stream",
     "text": [
      "Copying file://Carrier_results.csv [Content-Type=text/csv]...\n",
      "- [1 files][  4.0 KiB/  4.0 KiB]                                                \n",
      "Operation completed over 1 objects/4.0 KiB.                                      \n"
     ]
    }
   ],
   "source": [
    "!gsutil cp Carrier_results.csv gs://srimldatapoint/\n",
    "#!gsutil cp Scores* gs://srimldatapoint/"
   ]
  },
  {
   "cell_type": "code",
   "execution_count": null,
   "metadata": {
    "collapsed": true,
    "deletable": true,
    "editable": true
   },
   "outputs": [],
   "source": []
  },
  {
   "cell_type": "markdown",
   "metadata": {
    "deletable": true,
    "editable": true
   },
   "source": [
    "Q4. **Can you detect cascading failures as delays in one airport create delays in others? Are there critical links in the system?**\n"
   ]
  },
  {
   "cell_type": "code",
   "execution_count": null,
   "metadata": {
    "collapsed": true,
    "deletable": true,
    "editable": true
   },
   "outputs": [],
   "source": []
  }
 ],
 "metadata": {
  "kernelspec": {
   "display_name": "Python 3",
   "language": "python",
   "name": "python3"
  },
  "language_info": {
   "codemirror_mode": {
    "name": "ipython",
    "version": 3
   },
   "file_extension": ".py",
   "mimetype": "text/x-python",
   "name": "python",
   "nbconvert_exporter": "python",
   "pygments_lexer": "ipython3",
   "version": "3.5.5"
  }
 },
 "nbformat": 4,
 "nbformat_minor": 2
}
