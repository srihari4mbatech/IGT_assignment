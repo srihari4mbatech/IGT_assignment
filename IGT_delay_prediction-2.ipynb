{
 "cells": [
  {
   "cell_type": "code",
   "execution_count": null,
   "metadata": {
    "collapsed": false,
    "deletable": true,
    "editable": true
   },
   "outputs": [],
   "source": [
    "import pandas as pd\n",
    "import numpy as np\n",
    "import matplotlib.pyplot as plt\n",
    "%matplotlib inline\n",
    "import tensorflow as tf\n",
    "import seaborn as sns\n",
    "from sklearn.model_selection import train_test_split\n",
    "import os"
   ]
  },
  {
   "cell_type": "markdown",
   "metadata": {
    "deletable": true,
    "editable": true
   },
   "source": [
    "## Create a model to predict the delays"
   ]
  },
  {
   "cell_type": "markdown",
   "metadata": {
    "deletable": true,
    "editable": true
   },
   "source": [
    "## Through this workbook,I am goin to answer below questions:\n",
    "* Create a model to predict flight delays?\n",
    "* How well does weather predict plane delays?"
   ]
  },
  {
   "cell_type": "markdown",
   "metadata": {},
   "source": [
    "#### Loading of data"
   ]
  },
  {
   "cell_type": "code",
   "execution_count": null,
   "metadata": {
    "collapsed": true,
    "deletable": true,
    "editable": true
   },
   "outputs": [],
   "source": [
    "df_2008=pd.read_csv('2008.csv')\n",
    "df_2007=pd.read_csv('2007.csv')\n",
    "airport_df=pd.read_csv('airports.csv')\n",
    "carrier_df=pd.read_csv('carriers.csv')\n",
    "planes_df=pd.read_csv('plane-data.csv')\n",
    "main_df=pd.concat([df_2008],ignore_index=True)\n",
    "main_df['Date']=pd.to_datetime(pd.DataFrame({'year':main_df['Year'],'month':main_df['Month'],'day':main_df['DayofMonth']}))"
   ]
  },
  {
   "cell_type": "markdown",
   "metadata": {
    "deletable": true,
    "editable": true
   },
   "source": [
    "#### Problem statement - Is there any delay in the flight or not? If there is a delay do that is Dep Delay or Arr Delay or both or None. IF so how much of departure delay and how much of arrival delay\n",
    "There are two regression problems in this questions.\n",
    "#### Problem Statement1 - How much is Departure Delay for this particural plane\n",
    "#### Problem Statement2 - How much is Arrival Delay for this particural plane\n",
    "Key parameters can be considered are:\n",
    "Target parameter: DepDelay or Arr Delay (Prepare a column Total Delay)\n",
    "#### Problem1 model below"
   ]
  },
  {
   "cell_type": "code",
   "execution_count": null,
   "metadata": {
    "collapsed": false,
    "deletable": true,
    "editable": true
   },
   "outputs": [],
   "source": [
    "main_df.columns\n",
    "key_columns=['CRSDepTime','CRSArrTime','UniqueCarrier','AirTime','Diverted','CarrierDelay','WeatherDelay','NASDelay','SecurityDelay',\n",
    "            'LateAircraftDelay','Month','DayOfWeek','DepDelay']\n",
    "key2_columns=['UniqueCarrier','Diverted','CarrierDelay','WeatherDelay','NASDelay','SecurityDelay',\n",
    "            'LateAircraftDelay','Month','DayOfWeek','DepDelay']"
   ]
  },
  {
   "cell_type": "code",
   "execution_count": null,
   "metadata": {
    "collapsed": false,
    "deletable": true,
    "editable": true
   },
   "outputs": [],
   "source": [
    "main_df_req=main_df[key2_columns].copy()"
   ]
  },
  {
   "cell_type": "code",
   "execution_count": null,
   "metadata": {
    "collapsed": false,
    "deletable": true,
    "editable": true
   },
   "outputs": [],
   "source": [
    "sns.heatmap(main_df_req.corr())"
   ]
  },
  {
   "cell_type": "code",
   "execution_count": null,
   "metadata": {
    "collapsed": false,
    "deletable": true,
    "editable": true
   },
   "outputs": [],
   "source": [
    "main_df_req.boxplot(column='DepDelay',by='Diverted')"
   ]
  },
  {
   "cell_type": "code",
   "execution_count": null,
   "metadata": {
    "collapsed": false,
    "deletable": true,
    "editable": true
   },
   "outputs": [],
   "source": [
    "sns.boxplot(x='Diverted',y='DepDelay',data=main_df_req)"
   ]
  },
  {
   "cell_type": "code",
   "execution_count": null,
   "metadata": {
    "collapsed": false,
    "deletable": true,
    "editable": true
   },
   "outputs": [],
   "source": [
    "main_df_req['DepDelay'].describe(percentiles=[0.01,0.05,0.95,0.99])"
   ]
  },
  {
   "cell_type": "code",
   "execution_count": null,
   "metadata": {
    "collapsed": false,
    "deletable": true,
    "editable": true
   },
   "outputs": [],
   "source": [
    "print(main_df_req.columns)\n",
    "lst=list(main_df_req['UniqueCarrier'].unique())\n",
    "print(lst)\n",
    "main_df_req1=main_df_req[main_df_req['DepDelay'].isnull()==False].fillna(0)"
   ]
  },
  {
   "cell_type": "code",
   "execution_count": null,
   "metadata": {
    "collapsed": false,
    "deletable": true,
    "editable": true
   },
   "outputs": [],
   "source": [
    "main_df['DayOfWeek'].unique()"
   ]
  },
  {
   "cell_type": "code",
   "execution_count": null,
   "metadata": {
    "collapsed": false,
    "deletable": true,
    "editable": true
   },
   "outputs": [],
   "source": [
    "Unq_carr=tf.feature_column.categorical_column_with_hash_bucket('UniqueCarrier',hash_bucket_size=20)\n",
    "diver=tf.feature_column.categorical_column_with_vocabulary_list('Diverted',[1,0])\n",
    "Car_del=tf.feature_column.numeric_column('CarrierDelay')\n",
    "wt_del=tf.feature_column.numeric_column('WeatherDelay')\n",
    "Nas_del=tf.feature_column.numeric_column('NASDelay')\n",
    "Sec_del=tf.feature_column.numeric_column('SecurityDelay')\n",
    "Late_del=tf.feature_column.numeric_column('LateAircraftDelay')\n",
    "Month=tf.feature_column.categorical_column_with_vocabulary_list('Month',[1,2,3,4,5,6,7,8,9,10,11,12])\n",
    "DayOfWeek=tf.feature_column.categorical_column_with_vocabulary_list('DayOfWeek',[1,2,3,4,5,6,7])\n",
    "DepDelay=tf.feature_column.numeric_column('DepDelay')\n",
    "Unq_car=tf.feature_column.indicator_column(Unq_carr)\n",
    "diverted=tf.feature_column.indicator_column(diver)\n",
    "day_week=tf.feature_column.indicator_column(DayOfWeek)\n",
    "day_mnth=tf.feature_column.indicator_column(Month)"
   ]
  },
  {
   "cell_type": "code",
   "execution_count": null,
   "metadata": {
    "collapsed": false,
    "deletable": true,
    "editable": true
   },
   "outputs": [],
   "source": [
    "feat_cols=[Unq_car,diverted,Car_del,wt_del,Nas_del,Sec_del,Late_del,day_mnth,day_week]\n",
    "x_train,x_test,y_train,y_test=train_test_split(main_df_req1.iloc[:,:-1],main_df_req1.iloc[:,-1],random_state=100,train_size=0.8)"
   ]
  },
  {
   "cell_type": "markdown",
   "metadata": {
    "deletable": true,
    "editable": true
   },
   "source": [
    "Create an input function"
   ]
  },
  {
   "cell_type": "code",
   "execution_count": null,
   "metadata": {
    "collapsed": false,
    "deletable": true,
    "editable": true
   },
   "outputs": [],
   "source": [
    "input_func=tf.estimator.inputs.pandas_input_fn(x=x_train,y=y_train,batch_size=100,num_epochs=11,shuffle=False)\n",
    "test_func=tf.estimator.inputs.pandas_input_fn(x=x_test,y=y_test,batch_size=100,num_epochs=11,shuffle=False)"
   ]
  },
  {
   "cell_type": "markdown",
   "metadata": {
    "deletable": true,
    "editable": true
   },
   "source": [
    "Create DNNRegressor model"
   ]
  },
  {
   "cell_type": "code",
   "execution_count": null,
   "metadata": {
    "collapsed": false,
    "deletable": true,
    "editable": true
   },
   "outputs": [],
   "source": [
    "model=tf.estimator.DNNRegressor(feature_columns=feat_cols,hidden_units=[10,30,30,30,10],activation_fn=tf.nn.relu,\n",
    "                                optimizer=tf.train.ProximalAdagradOptimizer(learning_rate=0.05,l1_regularization_strength=0.001),\n",
    "                               model_dir=os.getcwd()+'/model')"
   ]
  },
  {
   "cell_type": "code",
   "execution_count": null,
   "metadata": {
    "collapsed": false,
    "deletable": true,
    "editable": true
   },
   "outputs": [],
   "source": [
    "print(os.getcwd())"
   ]
  },
  {
   "cell_type": "code",
   "execution_count": null,
   "metadata": {
    "collapsed": false,
    "deletable": true,
    "editable": true
   },
   "outputs": [],
   "source": [
    "model.train(input_fn=input_func,steps=2500)"
   ]
  },
  {
   "cell_type": "code",
   "execution_count": null,
   "metadata": {
    "collapsed": false,
    "deletable": true,
    "editable": true
   },
   "outputs": [],
   "source": [
    "ev=model.evaluate(input_fn=input_func,steps=100)\n",
    "print(ev)\n",
    "# towfurther tweak the model if we add rmse is part of evaluation metrics https://www.tensorflow.org/versions/r1.3/extend/estimators#constructing-modelfn"
   ]
  },
  {
   "cell_type": "code",
   "execution_count": null,
   "metadata": {
    "collapsed": false,
    "deletable": true,
    "editable": true
   },
   "outputs": [],
   "source": [
    "y_pred=model.predict(input_fn=test_func)\n",
    "y_pred_test=model.predict(input_fn=input_func)\n",
    "y_pred1=[]\n",
    "for i in range(500000):\n",
    "  y_pred1.append(next(y_pred))\n",
    "exact_pred=[i['predictions'][0] for i in y_pred1]\n",
    "y_train_pred=[]\n",
    "for i in range(500000):\n",
    "  y_train_pred.append(next(y_pred_test))\n",
    "exact_train=[i['predictions'][0] for i in y_train_pred]"
   ]
  },
  {
   "cell_type": "code",
   "execution_count": null,
   "metadata": {
    "collapsed": false,
    "deletable": true,
    "editable": true
   },
   "outputs": [],
   "source": [
    "from sklearn.metrics import mean_squared_error,r2_score\n",
    "#print(mean_squared_error(y_test[0:len(exact_pred)],exact_pred))\n",
    "print(\"Model Accuracy on test data is {} \".format(r2_score(y_test[0:len(exact_pred)],exact_pred)))\n",
    "#print(mean_squared_error(y_train[0:len(exact_train)],exact_train))\n",
    "print(\"Model Accuracy on train data is {} \".format(r2_score(y_train[0:len(exact_pred)],exact_train)))"
   ]
  },
  {
   "cell_type": "code",
   "execution_count": null,
   "metadata": {
    "collapsed": false,
    "deletable": true,
    "editable": true
   },
   "outputs": [],
   "source": [
    "model.get_variable_value(model.get_variable_names()[0])"
   ]
  },
  {
   "cell_type": "code",
   "execution_count": null,
   "metadata": {
    "collapsed": false,
    "deletable": true,
    "editable": true
   },
   "outputs": [],
   "source": [
    "model.get_variable_value(model.get_variable_names()[5])"
   ]
  },
  {
   "cell_type": "markdown",
   "metadata": {},
   "source": [
    "#### Prepare dummy dataset with various Weather delays to check the model delay\n",
    "Q6. How well does weather predict plane delays?\n",
    "Ans: As per below results Weatherdelay is linearly correlated with flight departure delays and resultant model correlation is 0.96\n",
    "Methodology: \n",
    "            * Checked correlation coefficient in 2008 data set it is 0.267\n",
    "            * Generated random dataset where all the other features are constant and only Wealther delay is varying as per normal distribution.\n",
    "            * Predicted Departure delays for all these instances. To check modeled relation between weather delay and DepDelay.\n",
    "        Result is Weather delays positively correlated, i.e, bad weather will make flight departure delayed, in a very positive sense."
   ]
  },
  {
   "cell_type": "code",
   "execution_count": null,
   "metadata": {
    "collapsed": false
   },
   "outputs": [],
   "source": [
    "main_df_req1.corr()"
   ]
  },
  {
   "cell_type": "code",
   "execution_count": null,
   "metadata": {
    "collapsed": false
   },
   "outputs": [],
   "source": [
    "temp_df= pd.DataFrame({'WeatherDelay':np.random.randn(20000)*100})\n",
    "temp_df['UniqueCarrier']='WN'\n",
    "temp_df['Diverted']=0\n",
    "temp_df['CarrierDelay']=0\n",
    "temp_df['NASDelay']=0\n",
    "temp_df['SecurityDelay']=0\n",
    "temp_df['LateAircraftDelay']=0\n",
    "temp_df['Month']=1\n",
    "temp_df['DayOfWeek']=1\n",
    "temp_df.describe()"
   ]
  },
  {
   "cell_type": "code",
   "execution_count": null,
   "metadata": {
    "collapsed": true
   },
   "outputs": [],
   "source": [
    "pred_func=tf.estimator.inputs.pandas_input_fn(x=temp_df,batch_size=100,num_epochs=1,shuffle=False)"
   ]
  },
  {
   "cell_type": "code",
   "execution_count": null,
   "metadata": {
    "collapsed": false
   },
   "outputs": [],
   "source": [
    "pred_temp_df=model.predict(pred_func)\n",
    "temp_df_pred=[]\n",
    "for i in pred_temp_df:\n",
    "  temp_df_pred.append(i['predictions'][0])"
   ]
  },
  {
   "cell_type": "code",
   "execution_count": null,
   "metadata": {
    "collapsed": false
   },
   "outputs": [],
   "source": [
    "temp_df['DepDelay']=temp_df_pred\n",
    "temp_df.info()"
   ]
  },
  {
   "cell_type": "code",
   "execution_count": null,
   "metadata": {
    "collapsed": false
   },
   "outputs": [],
   "source": [
    "temp_df.iloc[0:2000,:].plot(kind='scatter',x='WeatherDelay',y='DepDelay',figsize=(7,4))"
   ]
  },
  {
   "cell_type": "code",
   "execution_count": null,
   "metadata": {
    "collapsed": true
   },
   "outputs": [],
   "source": []
  }
 ],
 "metadata": {
  "kernelspec": {
   "display_name": "Python 3",
   "language": "python",
   "name": "python3"
  },
  "language_info": {
   "codemirror_mode": {
    "name": "ipython",
    "version": 3
   },
   "file_extension": ".py",
   "mimetype": "text/x-python",
   "name": "python",
   "nbconvert_exporter": "python",
   "pygments_lexer": "ipython3",
   "version": "3.5.5"
  }
 },
 "nbformat": 4,
 "nbformat_minor": 2
}
